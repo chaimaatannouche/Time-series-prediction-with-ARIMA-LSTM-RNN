{
 "cells": [
  {
   "cell_type": "markdown",
   "id": "2ae21437",
   "metadata": {},
   "source": [
    "## Overview"
   ]
  },
  {
   "cell_type": "markdown",
   "id": "cc032d0f",
   "metadata": {},
   "source": [
    "In this tutorial, we will work through a time series forecasting project from end-to-end, from\n",
    "downloading the dataset and defining the problem to training a final model and making\n",
    "predictions.\n",
    "The steps of this project that we will work through are as follows:\n",
    "1. Problem Description.\n",
    "2. Persistence.\n",
    "3. Data Analysis.\n",
    "4. ARIMA Models.\n",
    "5. Model Validation.\n"
   ]
  },
  {
   "cell_type": "code",
   "execution_count": 1,
   "id": "b2ecefab",
   "metadata": {},
   "outputs": [],
   "source": [
    "#import libraries\n",
    "import pandas as pd\n",
    "from pandas import read_csv\n",
    "from matplotlib import pyplot as plt"
   ]
  },
  {
   "cell_type": "markdown",
   "id": "eefbf3d4",
   "metadata": {},
   "source": [
    "## Problem Description"
   ]
  },
  {
   "cell_type": "code",
   "execution_count": 2,
   "id": "9e3d05c0",
   "metadata": {},
   "outputs": [
    {
     "name": "stderr",
     "output_type": "stream",
     "text": [
      "C:\\Users\\DELL Abdellah\\AppData\\Local\\Temp\\ipykernel_16232\\823379247.py:1: FutureWarning: The squeeze argument has been deprecated and will be removed in a future version. Append .squeeze(\"columns\") to the call to squeeze.\n",
      "\n",
      "\n",
      "  series = read_csv(\"DailyDelhiClimateTest.csv\",header = 0,index_col=0,parse_dates = True,squeeze=True)\n"
     ]
    }
   ],
   "source": [
    "series = read_csv(\"DailyDelhiClimateTest.csv\",header = 0,index_col=0,parse_dates = True,squeeze=True)"
   ]
  },
  {
   "cell_type": "code",
   "execution_count": 3,
   "id": "fe447918",
   "metadata": {},
   "outputs": [
    {
     "name": "stdout",
     "output_type": "stream",
     "text": [
      "             meantemp   humidity  wind_speed  meanpressure\n",
      "date                                                      \n",
      "2017-01-01  15.913043  85.869565    2.743478     59.000000\n",
      "2017-01-02  18.500000  77.222222    2.894444   1018.277778\n",
      "2017-01-03  17.111111  81.888889    4.016667   1018.333333\n",
      "2017-01-04  18.700000  70.050000    4.545000   1015.700000\n",
      "2017-01-05  18.388889  74.944444    3.300000   1014.333333\n",
      "...               ...        ...         ...           ...\n",
      "2017-04-20  34.500000  27.500000    5.562500    998.625000\n",
      "2017-04-21  34.250000  39.375000    6.962500    999.875000\n",
      "2017-04-22  32.900000  40.900000    8.890000   1001.600000\n",
      "2017-04-23  32.875000  27.500000    9.962500   1002.125000\n",
      "2017-04-24  32.000000  27.142857   12.157143   1004.142857\n",
      "\n",
      "[114 rows x 4 columns]\n"
     ]
    }
   ],
   "source": [
    "print(series)"
   ]
  },
  {
   "cell_type": "markdown",
   "id": "1b7f84ab",
   "metadata": {},
   "source": [
    "In this tutorial, we are gonna build an ARIMA model to predict the future <b>Temperature</b> values of Delhi city using python.This dataset provides data from 1st January 2013 to 24th April 2017 in the city of Delhi, India. The 4 parameters here are:\n",
    "meantemp, humidity, wind_speed, meanpressure."
   ]
  },
  {
   "cell_type": "code",
   "execution_count": 4,
   "id": "2e2759fc",
   "metadata": {},
   "outputs": [],
   "source": [
    "series=series.drop(['humidity','wind_speed','meanpressure'], axis=1)"
   ]
  },
  {
   "cell_type": "code",
   "execution_count": 5,
   "id": "702248e6",
   "metadata": {},
   "outputs": [
    {
     "data": {
      "text/html": [
       "<div>\n",
       "<style scoped>\n",
       "    .dataframe tbody tr th:only-of-type {\n",
       "        vertical-align: middle;\n",
       "    }\n",
       "\n",
       "    .dataframe tbody tr th {\n",
       "        vertical-align: top;\n",
       "    }\n",
       "\n",
       "    .dataframe thead th {\n",
       "        text-align: right;\n",
       "    }\n",
       "</style>\n",
       "<table border=\"1\" class=\"dataframe\">\n",
       "  <thead>\n",
       "    <tr style=\"text-align: right;\">\n",
       "      <th></th>\n",
       "      <th>meantemp</th>\n",
       "    </tr>\n",
       "    <tr>\n",
       "      <th>date</th>\n",
       "      <th></th>\n",
       "    </tr>\n",
       "  </thead>\n",
       "  <tbody>\n",
       "    <tr>\n",
       "      <th>2017-01-01</th>\n",
       "      <td>15.913043</td>\n",
       "    </tr>\n",
       "    <tr>\n",
       "      <th>2017-01-02</th>\n",
       "      <td>18.500000</td>\n",
       "    </tr>\n",
       "    <tr>\n",
       "      <th>2017-01-03</th>\n",
       "      <td>17.111111</td>\n",
       "    </tr>\n",
       "    <tr>\n",
       "      <th>2017-01-04</th>\n",
       "      <td>18.700000</td>\n",
       "    </tr>\n",
       "    <tr>\n",
       "      <th>2017-01-05</th>\n",
       "      <td>18.388889</td>\n",
       "    </tr>\n",
       "    <tr>\n",
       "      <th>...</th>\n",
       "      <td>...</td>\n",
       "    </tr>\n",
       "    <tr>\n",
       "      <th>2017-04-20</th>\n",
       "      <td>34.500000</td>\n",
       "    </tr>\n",
       "    <tr>\n",
       "      <th>2017-04-21</th>\n",
       "      <td>34.250000</td>\n",
       "    </tr>\n",
       "    <tr>\n",
       "      <th>2017-04-22</th>\n",
       "      <td>32.900000</td>\n",
       "    </tr>\n",
       "    <tr>\n",
       "      <th>2017-04-23</th>\n",
       "      <td>32.875000</td>\n",
       "    </tr>\n",
       "    <tr>\n",
       "      <th>2017-04-24</th>\n",
       "      <td>32.000000</td>\n",
       "    </tr>\n",
       "  </tbody>\n",
       "</table>\n",
       "<p>114 rows × 1 columns</p>\n",
       "</div>"
      ],
      "text/plain": [
       "             meantemp\n",
       "date                 \n",
       "2017-01-01  15.913043\n",
       "2017-01-02  18.500000\n",
       "2017-01-03  17.111111\n",
       "2017-01-04  18.700000\n",
       "2017-01-05  18.388889\n",
       "...               ...\n",
       "2017-04-20  34.500000\n",
       "2017-04-21  34.250000\n",
       "2017-04-22  32.900000\n",
       "2017-04-23  32.875000\n",
       "2017-04-24  32.000000\n",
       "\n",
       "[114 rows x 1 columns]"
      ]
     },
     "execution_count": 5,
     "metadata": {},
     "output_type": "execute_result"
    }
   ],
   "source": [
    "series"
   ]
  },
  {
   "cell_type": "code",
   "execution_count": 6,
   "id": "ce92e2fb",
   "metadata": {},
   "outputs": [],
   "source": [
    "#remove missing values\n",
    "series=series.dropna()"
   ]
  },
  {
   "cell_type": "markdown",
   "id": "036ff483",
   "metadata": {},
   "source": [
    "## Persistence"
   ]
  },
  {
   "cell_type": "code",
   "execution_count": 8,
   "id": "c1dae4c0",
   "metadata": {},
   "outputs": [],
   "source": [
    "from sklearn.metrics import mean_squared_error\n",
    "from math import sqrt\n",
    "#prepare data\n",
    "X=series.values\n",
    "train_size = int(len(X)*0.5)\n",
    "train, X_ = X[0:train_size], X[train_size:]\n",
    "test_size = int(len(X_)*0.5)\n",
    "valid, test = X_[0:test_size], X_[test_size:]"
   ]
  },
  {
   "cell_type": "code",
   "execution_count": 9,
   "id": "5d2014e8",
   "metadata": {},
   "outputs": [
    {
     "name": "stdout",
     "output_type": "stream",
     "text": [
      ">Predicted=18.750, Expected=19.875\n",
      ">Predicted=19.875, Expected=23.333\n",
      ">Predicted=23.333, Expected=24.462\n",
      ">Predicted=24.462, Expected=23.750\n",
      ">Predicted=23.750, Expected=20.500\n",
      ">Predicted=20.500, Expected=19.125\n",
      ">Predicted=19.125, Expected=19.750\n",
      ">Predicted=19.750, Expected=20.000\n",
      ">Predicted=20.000, Expected=22.625\n",
      ">Predicted=22.625, Expected=21.545\n",
      ">Predicted=21.545, Expected=20.786\n",
      ">Predicted=20.786, Expected=19.938\n",
      ">Predicted=19.938, Expected=18.533\n",
      ">Predicted=18.533, Expected=17.375\n",
      ">Predicted=17.375, Expected=17.444\n",
      ">Predicted=17.444, Expected=18.000\n",
      ">Predicted=18.000, Expected=19.875\n",
      ">Predicted=19.875, Expected=24.000\n",
      ">Predicted=24.000, Expected=20.900\n",
      ">Predicted=20.900, Expected=24.692\n",
      ">Predicted=24.692, Expected=24.667\n",
      ">Predicted=24.667, Expected=23.333\n",
      ">Predicted=23.333, Expected=25.000\n",
      ">Predicted=25.000, Expected=27.250\n",
      ">Predicted=27.250, Expected=28.000\n",
      ">Predicted=28.000, Expected=28.917\n",
      ">Predicted=28.917, Expected=26.500\n",
      ">Predicted=26.500, Expected=29.100\n"
     ]
    }
   ],
   "source": [
    "#walk-forward validation\n",
    "history = [x for x in train]\n",
    "predictions = list()\n",
    "for i in range(len(valid)):\n",
    "    #predict\n",
    "    yhat = history[-1]\n",
    "    predictions.append(yhat)\n",
    "    #observation\n",
    "    obs = valid[i]\n",
    "    history.append(obs)\n",
    "    print('>Predicted=%.3f, Expected=%.3f' % (yhat, obs))\n"
   ]
  },
  {
   "cell_type": "code",
   "execution_count": 10,
   "id": "a9dea255",
   "metadata": {},
   "outputs": [
    {
     "name": "stdout",
     "output_type": "stream",
     "text": [
      "RMSE: 1.973\n"
     ]
    }
   ],
   "source": [
    "# report performance\n",
    "rmse = sqrt(mean_squared_error(valid, predictions))\n",
    "print('RMSE: %.3f' % rmse)"
   ]
  },
  {
   "cell_type": "markdown",
   "id": "962994d4",
   "metadata": {},
   "source": [
    "## Data Analysis"
   ]
  },
  {
   "cell_type": "markdown",
   "id": "bb622d2f",
   "metadata": {},
   "source": [
    "#### 1. Summary Statistics"
   ]
  },
  {
   "cell_type": "code",
   "execution_count": 11,
   "id": "92230e19",
   "metadata": {},
   "outputs": [
    {
     "name": "stdout",
     "output_type": "stream",
     "text": [
      "         meantemp\n",
      "count  114.000000\n",
      "mean    21.713079\n",
      "std      6.360072\n",
      "min     11.000000\n",
      "25%     16.437198\n",
      "50%     19.875000\n",
      "75%     27.705357\n",
      "max     34.500000\n"
     ]
    }
   ],
   "source": [
    "print(series.describe())"
   ]
  },
  {
   "cell_type": "markdown",
   "id": "c72a762a",
   "metadata": {},
   "source": [
    "#### 2. Line plot"
   ]
  },
  {
   "cell_type": "code",
   "execution_count": 12,
   "id": "552625e4",
   "metadata": {},
   "outputs": [
    {
     "data": {
      "image/png": "[encoded data removed]",
      "text/plain": [
       "<Figure size 1200x500 with 1 Axes>"
      ]
     },
     "metadata": {},
     "output_type": "display_data"
    }
   ],
   "source": [
    "series.plot(figsize=(12,5))\n",
    "plt.show()"
   ]
  },
  {
   "cell_type": "markdown",
   "id": "1a9ee882",
   "metadata": {},
   "source": [
    "- There is an increasing trend of meantemp over time.\n",
    "- The trend means the dataset is almost certainly non-stationary and the apparent change in fluctuation may also contribute.\n",
    "- These simple observations suggest we may see benefit in modeling the trend and removing it from the time series. Alternately, we could use differencing to make the series stationary for modeling. We may even need two levels of differencing if there is a growth trend in the fluctuations in later years."
   ]
  },
  {
   "cell_type": "markdown",
   "id": "8fbb8e7a",
   "metadata": {},
   "source": [
    "#### 3. Density Plot"
   ]
  },
  {
   "cell_type": "code",
   "execution_count": 13,
   "id": "62f0740e",
   "metadata": {},
   "outputs": [
    {
     "data": {
      "image/png": "[encoded data removed]",
      "text/plain": [
       "<Figure size 640x480 with 1 Axes>"
      ]
     },
     "metadata": {},
     "output_type": "display_data"
    },
    {
     "data": {
      "image/png": "[encoded data removed]",
      "text/plain": [
       "<Figure size 640x480 with 1 Axes>"
      ]
     },
     "metadata": {},
     "output_type": "display_data"
    }
   ],
   "source": [
    "series.hist()\n",
    "\n",
    "series.plot(kind='kde')\n",
    "plt.show()\n"
   ]
  },
  {
   "cell_type": "markdown",
   "id": "3ad834c4",
   "metadata": {},
   "source": [
    "- The distrubution is not Gaussian"
   ]
  },
  {
   "cell_type": "markdown",
   "id": "01abbb4f",
   "metadata": {},
   "source": [
    "#### 4. Checking Stationarity\n",
    "\n",
    "Right off the bat, we can see that it seems to have somewhat of a constant mean around 45. And the fluctuations also seem to be more or less the same. However to be sure if the data is stationary or not, we run Dickey Fuller Test.\n"
   ]
  },
  {
   "cell_type": "code",
   "execution_count": 14,
   "id": "03eb4222",
   "metadata": {},
   "outputs": [
    {
     "name": "stdout",
     "output_type": "stream",
     "text": [
      "1. ADF :  -1.0964742758756196\n",
      "2. P-Value :  0.7164758731775929\n",
      "3. Num Of Lags :  0\n",
      "4. Num Of Observations Used For ADF Regression: 113\n",
      "5. Critical Values :\n",
      "\t 1% :  -3.489589552580676\n",
      "\t 5% :  -2.887477210140433\n",
      "\t 10% :  -2.580604145195395\n"
     ]
    }
   ],
   "source": [
    "from statsmodels.tsa.stattools import adfuller\n",
    "def ad_test(dataset):\n",
    "     dftest = adfuller(dataset, autolag = 'AIC')\n",
    "     print(\"1. ADF : \",dftest[0])\n",
    "     print(\"2. P-Value : \", dftest[1])\n",
    "     print(\"3. Num Of Lags : \", dftest[2])\n",
    "     print(\"4. Num Of Observations Used For ADF Regression:\",      dftest[3])\n",
    "     print(\"5. Critical Values :\")\n",
    "     for key, val in dftest[4].items():\n",
    "         print(\"\\t\",key, \": \", val)\n",
    "ad_test(series)"
   ]
  },
  {
   "cell_type": "markdown",
   "id": "ff6ef692",
   "metadata": {},
   "source": [
    "p-value > 0.05 donc échec de rejet de l'hypothèse nulle (H0), la série est <b>non stationnaire</b>."
   ]
  },
  {
   "cell_type": "markdown",
   "id": "1b80abfd",
   "metadata": {},
   "source": [
    "## ARIMA Models"
   ]
  },
  {
   "cell_type": "markdown",
   "id": "f9382f1b",
   "metadata": {},
   "source": [
    "#### 1. Manually Configured ARIMA\n",
    "\n",
    "The time series is non-stationary. <b>We can make it stationary by first differencing the series</b> and using a statistical test to confirm that the result is stationary."
   ]
  },
  {
   "cell_type": "code",
   "execution_count": 15,
   "id": "cf6ff5b1",
   "metadata": {},
   "outputs": [
    {
     "name": "stdout",
     "output_type": "stream",
     "text": [
      "1. ADF :  -12.035797595562196\n",
      "2. P-Value :  2.8053213689778235e-22\n",
      "3. Num Of Lags :  0\n",
      "4. Num Of Observations Used For ADF Regression: 112\n",
      "5. Critical Values :\n",
      "\t 1% :  -3.4901313156261384\n",
      "\t 5% :  -2.8877122815688776\n",
      "\t 10% :  -2.5807296460459184\n"
     ]
    }
   ],
   "source": [
    "# create a differenced time series\n",
    "def difference(dataset):\n",
    "    diff = list()\n",
    "    for i in range(1, len(dataset)):\n",
    "        value = dataset[i] - dataset[i-1]\n",
    "        diff.append(value)\n",
    "    return pd.Series(diff)\n",
    "\n",
    "#difference data\n",
    "stationary = difference(X)\n",
    "stationary.index = series.index[1:]\n",
    "\n",
    "# check if stationary\n",
    "ad_test(stationary)"
   ]
  },
  {
   "cell_type": "markdown",
   "id": "94a50c68",
   "metadata": {},
   "source": [
    "p-value < 0.05 donc rejet de l'hypothèse nulle H0 à un degrès de risque de 5%. La série devient donc stationnaire."
   ]
  },
  {
   "cell_type": "markdown",
   "id": "f9bd7986",
   "metadata": {},
   "source": [
    "The next step is to select the lag values for the Autoregression (AR) and Moving Average (MA) parameters, p and q respectively. We can do this by reviewing Autocorrelation Function (ACF) and Partial Autocorrelation Function(PACF) plots. "
   ]
  },
  {
   "cell_type": "code",
   "execution_count": 16,
   "id": "4b9c6dbc",
   "metadata": {},
   "outputs": [
    {
     "name": "stderr",
     "output_type": "stream",
     "text": [
      "C:\\Users\\DELL Abdellah\\anaconda3\\lib\\site-packages\\statsmodels\\graphics\\tsaplots.py:348: FutureWarning: The default method 'yw' can produce PACF values outside of the [-1,1] interval. After 0.13, the default will change tounadjusted Yule-Walker ('ywm'). You can use this method now by setting method='ywm'.\n",
      "  warnings.warn(\n"
     ]
    },
    {
     "data": {
      "image/png": "[encoded data removed]",
      "text/plain": [
       "<Figure size 640x480 with 2 Axes>"
      ]
     },
     "metadata": {},
     "output_type": "display_data"
    }
   ],
   "source": [
    "# ACF and PACF plots of time series\n",
    "from statsmodels.graphics.tsaplots import plot_acf\n",
    "from statsmodels.graphics.tsaplots import plot_pacf\n",
    "\n",
    "plt.figure()\n",
    "plt.subplot(211)\n",
    "plot_acf(series, lags=30, ax=plt.gca())\n",
    "plt.subplot(212)\n",
    "plot_pacf(series, lags=30, ax=plt.gca())\n",
    "plt.show()"
   ]
  },
  {
   "cell_type": "markdown",
   "id": "883db7ca",
   "metadata": {},
   "source": [
    "- The PACF shows a significant lag for perhaps 2 months.\n",
    "- The ACF shows a significant lag for 5 days\n",
    "\n",
    "This quick analysis suggests an ARIMA(5,1,2) on the raw data may be a good starting point. Experimentation shows that this configuration of ARIMA does not converge and results in errors by the underlying library, as do similarly large AR values. Some experimentation shows that the model does not appear to be stable, with non-zero AR and MA orders defined at the same time. The model can be simplified to ARIMA(0,1,2). The example below demonstrates the performance of this ARIMA model on the test harness.\n"
   ]
  },
  {
   "cell_type": "code",
   "execution_count": 17,
   "id": "7c2603c2",
   "metadata": {},
   "outputs": [
    {
     "name": "stdout",
     "output_type": "stream",
     "text": [
      ">Predicted=18.791, Expected=19.875\n",
      ">Predicted=19.695, Expected=23.333\n",
      ">Predicted=22.871, Expected=24.462\n",
      ">Predicted=24.402, Expected=23.750\n",
      ">Predicted=23.825, Expected=20.500\n",
      ">Predicted=20.835, Expected=19.125\n",
      ">Predicted=19.316, Expected=19.750\n",
      ">Predicted=19.779, Expected=20.000\n",
      ">Predicted=19.970, Expected=22.625\n",
      ">Predicted=22.431, Expected=21.545\n",
      ">Predicted=21.511, Expected=20.786\n",
      ">Predicted=20.889, Expected=19.938\n",
      ">Predicted=20.046, Expected=18.533\n",
      ">Predicted=18.673, Expected=17.375\n",
      ">Predicted=17.484, Expected=17.444\n",
      ">Predicted=17.478, Expected=18.000\n",
      ">Predicted=17.972, Expected=19.875\n",
      ">Predicted=19.758, Expected=24.000\n",
      ">Predicted=23.969, Expected=20.900\n",
      ">Predicted=20.827, Expected=24.692\n",
      ">Predicted=24.233, Expected=24.667\n",
      ">Predicted=24.753, Expected=23.333\n",
      ">Predicted=23.476, Expected=25.000\n",
      ">Predicted=24.807, Expected=27.250\n",
      ">Predicted=27.013, Expected=28.000\n",
      ">Predicted=27.934, Expected=28.917\n",
      ">Predicted=28.857, Expected=26.500\n",
      ">Predicted=26.724, Expected=29.100\n"
     ]
    }
   ],
   "source": [
    "from statsmodels.tsa.arima.model import ARIMA\n",
    "\n",
    "#walk-forward validation\n",
    "history = [x for x in train]\n",
    "predictions = list()\n",
    "for i in range(len(valid)):\n",
    "    # predict\n",
    "    model = ARIMA(history, order=(0,1,2))\n",
    "    model_fit = model.fit()\n",
    "    yhat = model_fit.forecast()[0]\n",
    "    predictions.append(yhat)\n",
    "    # observation\n",
    "    obs = valid[i]\n",
    "    history.append(obs)\n",
    "    print('>Predicted=%.3f, Expected=%.3f' % (yhat, obs))\n"
   ]
  },
  {
   "cell_type": "code",
   "execution_count": 18,
   "id": "25edb8d1",
   "metadata": {},
   "outputs": [
    {
     "name": "stdout",
     "output_type": "stream",
     "text": [
      "RMSE: 2.024\n"
     ]
    }
   ],
   "source": [
    "# report performance\n",
    "rmse = sqrt(mean_squared_error(valid, predictions))\n",
    "print('RMSE: %.3f' % rmse)\n"
   ]
  },
  {
   "cell_type": "markdown",
   "id": "5a354724",
   "metadata": {},
   "source": [
    "#### 2. Grid Search ARIMA Hyperparameters"
   ]
  },
  {
   "cell_type": "code",
   "execution_count": 18,
   "id": "b890b180",
   "metadata": {},
   "outputs": [],
   "source": [
    "import warnings\n",
    "\n",
    "# evaluate an ARIMA model for a given order (p,d,q) and return RMSE\n",
    "def evaluate_arima_model(X, arima_order):\n",
    "    # prepare training dataset\n",
    "    train_size = int(len(X) * 0.50)\n",
    "    train, test = X[0:train_size], X[train_size:]\n",
    "    history = [x for x in train]\n",
    "    # make predictions\n",
    "    predictions = list()\n",
    "    for t in range(len(test)):\n",
    "        model = ARIMA(history, order=arima_order)\n",
    "        model_fit = model.fit()\n",
    "        yhat = model_fit.forecast()[0]\n",
    "        predictions.append(yhat)\n",
    "        history.append(test[t])\n",
    "    # calculate out of sample error\n",
    "    rmse = sqrt(mean_squared_error(test, predictions))\n",
    "    return rmse\n"
   ]
  },
  {
   "cell_type": "code",
   "execution_count": 143,
   "id": "144ba599",
   "metadata": {},
   "outputs": [],
   "source": [
    "# evaluate combinations of p, d and q values for an ARIMA model\n",
    "def evaluate_models(dataset, p_values, d_values, q_values):\n",
    "    best_score, best_cfg = float(\"inf\"), None\n",
    "    for p in p_values:\n",
    "        for d in d_values:\n",
    "            for q in q_values:\n",
    "                order = (p,d,q)\n",
    "                try:\n",
    "                    rmse = evaluate_arima_model(dataset, order)\n",
    "                    if rmse < best_score:\n",
    "                        best_score, best_cfg = rmse, order\n",
    "                    print('ARIMA%s RMSE=%.3f' % (order,rmse))\n",
    "                except:\n",
    "                    continue\n",
    "    print('Best ARIMA%s RMSE=%.3f' % (best_cfg, best_score))\n"
   ]
  },
  {
   "cell_type": "code",
   "execution_count": 144,
   "id": "bcf1efc6",
   "metadata": {},
   "outputs": [
    {
     "name": "stdout",
     "output_type": "stream",
     "text": [
      "ARIMA(0, 0, 0) RMSE=8.585\n",
      "ARIMA(0, 0, 1) RMSE=5.053\n",
      "ARIMA(0, 0, 2) RMSE=3.951\n",
      "ARIMA(0, 0, 3) RMSE=3.094\n",
      "ARIMA(0, 0, 4) RMSE=2.730\n",
      "ARIMA(0, 0, 5) RMSE=2.591\n",
      "ARIMA(0, 0, 6) RMSE=2.353\n",
      "ARIMA(0, 0, 7) RMSE=2.300\n",
      "ARIMA(0, 0, 8) RMSE=2.300\n",
      "ARIMA(0, 0, 9) RMSE=2.346\n",
      "ARIMA(0, 0, 10) RMSE=2.330\n",
      "ARIMA(0, 0, 11) RMSE=2.136\n",
      "ARIMA(0, 0, 12) RMSE=2.188\n",
      "ARIMA(0, 1, 0) RMSE=1.678\n",
      "ARIMA(0, 1, 1) RMSE=1.687\n",
      "ARIMA(0, 1, 2) RMSE=1.705\n",
      "ARIMA(0, 1, 3) RMSE=1.733\n",
      "ARIMA(0, 1, 4) RMSE=1.694\n",
      "ARIMA(0, 1, 5) RMSE=1.748\n",
      "ARIMA(0, 1, 6) RMSE=1.766\n",
      "ARIMA(0, 1, 7) RMSE=1.775\n",
      "ARIMA(0, 1, 8) RMSE=1.819\n",
      "ARIMA(0, 1, 9) RMSE=1.825\n",
      "ARIMA(0, 1, 10) RMSE=1.887\n",
      "ARIMA(0, 1, 11) RMSE=1.935\n",
      "ARIMA(0, 1, 12) RMSE=2.025\n",
      "ARIMA(0, 2, 0) RMSE=2.474\n",
      "ARIMA(0, 2, 1) RMSE=1.677\n",
      "ARIMA(0, 2, 2) RMSE=1.683\n",
      "ARIMA(0, 2, 3) RMSE=1.701\n",
      "ARIMA(0, 2, 4) RMSE=1.727\n",
      "ARIMA(0, 2, 5) RMSE=1.708\n",
      "ARIMA(0, 2, 6) RMSE=1.722\n",
      "ARIMA(0, 2, 7) RMSE=1.757\n",
      "ARIMA(0, 2, 8) RMSE=1.726\n",
      "ARIMA(0, 2, 9) RMSE=1.780\n",
      "ARIMA(0, 2, 10) RMSE=1.808\n",
      "ARIMA(0, 2, 11) RMSE=2.009\n",
      "ARIMA(0, 2, 12) RMSE=1.895\n",
      "ARIMA(0, 3, 0) RMSE=4.344\n",
      "ARIMA(0, 3, 1) RMSE=2.490\n",
      "ARIMA(0, 3, 2) RMSE=1.704\n",
      "ARIMA(0, 3, 3) RMSE=1.708\n",
      "ARIMA(0, 3, 4) RMSE=1.726\n",
      "ARIMA(0, 3, 5) RMSE=1.762\n",
      "ARIMA(0, 3, 6) RMSE=1.736\n",
      "ARIMA(0, 3, 7) RMSE=1.762\n",
      "ARIMA(0, 3, 8) RMSE=1.808\n",
      "ARIMA(0, 3, 9) RMSE=1.979\n",
      "ARIMA(0, 3, 10) RMSE=1.983\n",
      "ARIMA(0, 3, 11) RMSE=2.018\n",
      "ARIMA(0, 3, 12) RMSE=2.217\n",
      "ARIMA(1, 0, 0) RMSE=1.811\n",
      "ARIMA(1, 0, 1) RMSE=1.808\n",
      "ARIMA(1, 0, 2) RMSE=1.831\n",
      "ARIMA(1, 0, 3) RMSE=1.851\n",
      "ARIMA(1, 0, 4) RMSE=1.833\n",
      "ARIMA(1, 0, 5) RMSE=1.834\n",
      "ARIMA(1, 0, 6) RMSE=1.864\n",
      "ARIMA(1, 0, 7) RMSE=1.882\n",
      "ARIMA(1, 0, 8) RMSE=1.918\n",
      "ARIMA(1, 0, 9) RMSE=1.896\n",
      "ARIMA(1, 0, 10) RMSE=2.011\n",
      "ARIMA(1, 0, 11) RMSE=2.084\n",
      "ARIMA(1, 0, 12) RMSE=2.043\n",
      "ARIMA(1, 1, 0) RMSE=1.688\n",
      "ARIMA(1, 1, 1) RMSE=1.704\n",
      "ARIMA(1, 1, 2) RMSE=1.699\n",
      "ARIMA(1, 1, 3) RMSE=1.744\n",
      "ARIMA(1, 1, 4) RMSE=1.732\n",
      "ARIMA(1, 1, 5) RMSE=1.771\n",
      "ARIMA(1, 1, 6) RMSE=1.793\n",
      "ARIMA(1, 1, 7) RMSE=1.810\n",
      "ARIMA(1, 1, 8) RMSE=1.813\n",
      "ARIMA(1, 1, 9) RMSE=1.853\n",
      "ARIMA(1, 1, 10) RMSE=1.941\n",
      "ARIMA(1, 1, 11) RMSE=1.974\n",
      "ARIMA(1, 1, 12) RMSE=1.904\n",
      "ARIMA(1, 2, 0) RMSE=2.092\n",
      "ARIMA(1, 2, 1) RMSE=1.685\n",
      "ARIMA(1, 2, 2) RMSE=1.675\n",
      "ARIMA(1, 2, 3) RMSE=1.700\n",
      "ARIMA(1, 2, 4) RMSE=1.705\n",
      "ARIMA(1, 2, 5) RMSE=1.756\n",
      "ARIMA(1, 2, 6) RMSE=1.762\n",
      "ARIMA(1, 2, 7) RMSE=1.754\n",
      "ARIMA(1, 2, 8) RMSE=1.749\n",
      "ARIMA(1, 2, 9) RMSE=1.732\n",
      "ARIMA(1, 2, 10) RMSE=1.869\n",
      "ARIMA(1, 2, 11) RMSE=2.010\n",
      "ARIMA(1, 2, 12) RMSE=1.944\n",
      "ARIMA(1, 3, 0) RMSE=3.196\n",
      "ARIMA(1, 3, 1) RMSE=2.106\n",
      "ARIMA(1, 3, 2) RMSE=1.710\n",
      "ARIMA(1, 3, 3) RMSE=1.713\n",
      "ARIMA(1, 3, 4) RMSE=1.718\n",
      "ARIMA(1, 3, 5) RMSE=1.738\n",
      "ARIMA(1, 3, 6) RMSE=1.776\n",
      "ARIMA(1, 3, 7) RMSE=1.752\n",
      "ARIMA(1, 3, 8) RMSE=1.804\n",
      "ARIMA(1, 3, 9) RMSE=1.824\n",
      "ARIMA(1, 3, 10) RMSE=1.823\n",
      "ARIMA(1, 3, 11) RMSE=2.070\n",
      "ARIMA(1, 3, 12) RMSE=1.992\n",
      "ARIMA(2, 0, 0) RMSE=1.811\n",
      "ARIMA(2, 0, 1) RMSE=1.825\n",
      "ARIMA(2, 0, 2) RMSE=1.843\n",
      "ARIMA(2, 0, 3) RMSE=1.845\n",
      "ARIMA(2, 0, 4) RMSE=1.815\n",
      "ARIMA(2, 0, 5) RMSE=1.862\n",
      "ARIMA(2, 0, 6) RMSE=1.879\n",
      "ARIMA(2, 0, 7) RMSE=1.912\n",
      "ARIMA(2, 0, 8) RMSE=1.991\n",
      "ARIMA(2, 0, 9) RMSE=1.968\n",
      "ARIMA(2, 0, 10) RMSE=1.980\n",
      "ARIMA(2, 0, 11) RMSE=2.050\n",
      "ARIMA(2, 0, 12) RMSE=2.075\n",
      "ARIMA(2, 1, 0) RMSE=1.699\n",
      "ARIMA(2, 1, 1) RMSE=1.691\n",
      "ARIMA(2, 1, 2) RMSE=1.795\n",
      "ARIMA(2, 1, 3) RMSE=1.827\n",
      "ARIMA(2, 1, 4) RMSE=1.804\n",
      "ARIMA(2, 1, 5) RMSE=1.796\n",
      "ARIMA(2, 1, 6) RMSE=1.804\n",
      "ARIMA(2, 1, 7) RMSE=1.932\n",
      "ARIMA(2, 1, 8) RMSE=1.897\n",
      "ARIMA(2, 1, 9) RMSE=1.964\n",
      "ARIMA(2, 1, 10) RMSE=1.923\n",
      "ARIMA(2, 1, 11) RMSE=1.929\n",
      "ARIMA(2, 1, 12) RMSE=1.983\n",
      "ARIMA(2, 2, 0) RMSE=1.948\n",
      "ARIMA(2, 2, 1) RMSE=1.696\n",
      "ARIMA(2, 2, 2) RMSE=1.695\n",
      "ARIMA(2, 2, 3) RMSE=1.651\n",
      "ARIMA(2, 2, 4) RMSE=1.695\n",
      "ARIMA(2, 2, 5) RMSE=1.763\n",
      "ARIMA(2, 2, 6) RMSE=1.774\n",
      "ARIMA(2, 2, 7) RMSE=1.772\n",
      "ARIMA(2, 2, 8) RMSE=1.816\n",
      "ARIMA(2, 2, 9) RMSE=1.740\n",
      "ARIMA(2, 2, 10) RMSE=1.719\n",
      "ARIMA(2, 2, 11) RMSE=1.875\n",
      "ARIMA(2, 2, 12) RMSE=1.820\n",
      "ARIMA(2, 3, 0) RMSE=2.516\n",
      "ARIMA(2, 3, 1) RMSE=1.962\n",
      "ARIMA(2, 3, 3) RMSE=1.721\n",
      "ARIMA(2, 3, 4) RMSE=1.748\n",
      "ARIMA(2, 3, 5) RMSE=1.739\n",
      "ARIMA(2, 3, 6) RMSE=1.777\n",
      "ARIMA(2, 3, 7) RMSE=1.815\n",
      "ARIMA(2, 3, 8) RMSE=1.718\n",
      "ARIMA(2, 3, 9) RMSE=1.842\n",
      "ARIMA(2, 3, 10) RMSE=1.906\n",
      "ARIMA(2, 3, 11) RMSE=1.804\n",
      "ARIMA(2, 3, 12) RMSE=1.871\n",
      "ARIMA(3, 0, 0) RMSE=1.828\n",
      "ARIMA(3, 0, 1) RMSE=1.841\n",
      "ARIMA(3, 0, 2) RMSE=1.829\n",
      "ARIMA(3, 0, 3) RMSE=1.886\n",
      "ARIMA(3, 0, 4) RMSE=1.847\n",
      "ARIMA(3, 0, 5) RMSE=1.898\n",
      "ARIMA(3, 0, 6) RMSE=1.914\n",
      "ARIMA(3, 0, 7) RMSE=1.947\n",
      "ARIMA(3, 0, 8) RMSE=1.983\n",
      "ARIMA(3, 0, 9) RMSE=1.987\n",
      "ARIMA(3, 0, 10) RMSE=2.067\n",
      "ARIMA(3, 0, 11) RMSE=2.057\n",
      "ARIMA(3, 0, 12) RMSE=2.096\n",
      "ARIMA(3, 1, 0) RMSE=1.709\n",
      "ARIMA(3, 1, 1) RMSE=1.754\n",
      "ARIMA(3, 1, 2) RMSE=1.825\n",
      "ARIMA(3, 1, 3) RMSE=1.784\n",
      "ARIMA(3, 1, 4) RMSE=1.888\n",
      "ARIMA(3, 1, 5) RMSE=1.862\n",
      "ARIMA(3, 1, 6) RMSE=1.850\n",
      "ARIMA(3, 1, 7) RMSE=1.825\n",
      "ARIMA(3, 1, 8) RMSE=1.900\n",
      "ARIMA(3, 1, 9) RMSE=1.951\n",
      "ARIMA(3, 1, 10) RMSE=1.914\n",
      "ARIMA(3, 1, 11) RMSE=1.981\n",
      "ARIMA(3, 1, 12) RMSE=2.022\n",
      "ARIMA(3, 2, 0) RMSE=1.988\n",
      "ARIMA(3, 2, 1) RMSE=1.706\n",
      "ARIMA(3, 2, 2) RMSE=97188.132\n",
      "ARIMA(3, 2, 3) RMSE=1.719\n",
      "ARIMA(3, 2, 4) RMSE=1.782\n",
      "ARIMA(3, 2, 5) RMSE=1.765\n",
      "ARIMA(3, 2, 6) RMSE=1.774\n",
      "ARIMA(3, 2, 7) RMSE=1.787\n",
      "ARIMA(3, 2, 8) RMSE=1.797\n",
      "ARIMA(3, 2, 9) RMSE=1.819\n",
      "ARIMA(3, 2, 10) RMSE=1.785\n",
      "ARIMA(3, 2, 11) RMSE=1.878\n",
      "ARIMA(3, 2, 12) RMSE=1.951\n",
      "ARIMA(3, 3, 0) RMSE=2.553\n",
      "ARIMA(3, 3, 1) RMSE=1.999\n",
      "ARIMA(3, 3, 2) RMSE=1.784\n",
      "ARIMA(3, 3, 3) RMSE=1.835\n",
      "ARIMA(3, 3, 4) RMSE=1.746\n",
      "ARIMA(3, 3, 5) RMSE=1.732\n",
      "ARIMA(3, 3, 6) RMSE=1.725\n",
      "ARIMA(3, 3, 7) RMSE=1.790\n",
      "ARIMA(3, 3, 8) RMSE=1.808\n",
      "ARIMA(3, 3, 9) RMSE=1.794\n",
      "ARIMA(3, 3, 10) RMSE=1.831\n",
      "ARIMA(3, 3, 11) RMSE=1.956\n",
      "ARIMA(3, 3, 12) RMSE=1.852\n",
      "ARIMA(4, 0, 0) RMSE=1.842\n",
      "ARIMA(4, 0, 1) RMSE=1.845\n",
      "ARIMA(4, 0, 2) RMSE=1.867\n",
      "ARIMA(4, 0, 3) RMSE=1.880\n",
      "ARIMA(4, 0, 4) RMSE=1.940\n",
      "ARIMA(4, 0, 5) RMSE=1.951\n",
      "ARIMA(4, 0, 6) RMSE=1.927\n",
      "ARIMA(4, 0, 7) RMSE=1.890\n",
      "ARIMA(4, 0, 8) RMSE=2.008\n",
      "ARIMA(4, 0, 9) RMSE=1.992\n",
      "ARIMA(4, 0, 10) RMSE=2.029\n",
      "ARIMA(4, 0, 11) RMSE=2.047\n",
      "ARIMA(4, 0, 12) RMSE=2.041\n",
      "ARIMA(4, 1, 0) RMSE=1.686\n",
      "ARIMA(4, 1, 1) RMSE=1.746\n",
      "ARIMA(4, 1, 2) RMSE=1.831\n",
      "ARIMA(4, 1, 3) RMSE=1.849\n",
      "ARIMA(4, 1, 4) RMSE=1.896\n",
      "ARIMA(4, 1, 5) RMSE=1.834\n",
      "ARIMA(4, 1, 6) RMSE=1.775\n",
      "ARIMA(4, 1, 7) RMSE=52.452\n",
      "ARIMA(4, 1, 8) RMSE=1.919\n",
      "ARIMA(4, 1, 9) RMSE=2.003\n",
      "ARIMA(4, 1, 10) RMSE=1.927\n",
      "ARIMA(4, 1, 11) RMSE=2.028\n",
      "ARIMA(4, 1, 12) RMSE=1.989\n",
      "ARIMA(4, 2, 0) RMSE=1.939\n",
      "ARIMA(4, 2, 1) RMSE=1.683\n",
      "ARIMA(4, 2, 2) RMSE=1.731\n",
      "ARIMA(4, 2, 3) RMSE=1.732\n",
      "ARIMA(4, 2, 4) RMSE=1.744\n",
      "ARIMA(4, 2, 6) RMSE=1.784\n",
      "ARIMA(4, 2, 7) RMSE=1.865\n",
      "ARIMA(4, 2, 8) RMSE=1.827\n",
      "ARIMA(4, 2, 9) RMSE=1.891\n",
      "ARIMA(4, 2, 10) RMSE=1.794\n",
      "ARIMA(4, 2, 11) RMSE=1.786\n",
      "ARIMA(4, 2, 12) RMSE=1.840\n",
      "ARIMA(4, 3, 0) RMSE=2.460\n",
      "ARIMA(4, 3, 1) RMSE=1.955\n",
      "ARIMA(4, 3, 2) RMSE=1.996\n",
      "ARIMA(4, 3, 3) RMSE=2.033\n",
      "ARIMA(4, 3, 4) RMSE=1.796\n",
      "ARIMA(4, 3, 5) RMSE=1.679\n",
      "ARIMA(4, 3, 6) RMSE=1.836\n",
      "ARIMA(4, 3, 7) RMSE=1.827\n",
      "ARIMA(4, 3, 8) RMSE=1.847\n",
      "ARIMA(4, 3, 9) RMSE=1.914\n",
      "ARIMA(4, 3, 10) RMSE=1.763\n",
      "ARIMA(4, 3, 11) RMSE=1.948\n",
      "ARIMA(4, 3, 12) RMSE=1.882\n",
      "ARIMA(5, 0, 0) RMSE=1.837\n",
      "ARIMA(5, 0, 1) RMSE=1.861\n",
      "ARIMA(5, 0, 2) RMSE=1.905\n",
      "ARIMA(5, 0, 3) RMSE=1.905\n",
      "ARIMA(5, 0, 4) RMSE=1.903\n",
      "ARIMA(5, 0, 5) RMSE=1.912\n",
      "ARIMA(5, 0, 6) RMSE=1.885\n",
      "ARIMA(5, 0, 7) RMSE=1.932\n",
      "ARIMA(5, 0, 8) RMSE=2.004\n",
      "ARIMA(5, 0, 9) RMSE=2.050\n",
      "ARIMA(5, 0, 10) RMSE=2.194\n",
      "ARIMA(5, 0, 11) RMSE=2.139\n",
      "ARIMA(5, 0, 12) RMSE=2.118\n",
      "ARIMA(5, 1, 0) RMSE=1.725\n",
      "ARIMA(5, 1, 1) RMSE=1.766\n",
      "ARIMA(5, 1, 2) RMSE=1.780\n",
      "ARIMA(5, 1, 3) RMSE=1.876\n",
      "ARIMA(5, 1, 4) RMSE=1.813\n",
      "ARIMA(5, 1, 5) RMSE=1.920\n",
      "ARIMA(5, 1, 6) RMSE=1.759\n",
      "ARIMA(5, 1, 7) RMSE=1.811\n",
      "ARIMA(5, 1, 8) RMSE=1.905\n",
      "ARIMA(5, 1, 9) RMSE=1.918\n",
      "ARIMA(5, 1, 10) RMSE=1.852\n",
      "ARIMA(5, 1, 11) RMSE=1.943\n",
      "ARIMA(5, 1, 12) RMSE=2.005\n",
      "ARIMA(5, 2, 0) RMSE=1.889\n",
      "ARIMA(5, 2, 1) RMSE=1.717\n",
      "ARIMA(5, 2, 2) RMSE=1.738\n",
      "ARIMA(5, 2, 3) RMSE=1.764\n",
      "ARIMA(5, 2, 4) RMSE=1.814\n",
      "ARIMA(5, 2, 6) RMSE=1.824\n",
      "ARIMA(5, 2, 7) RMSE=1.742\n",
      "ARIMA(5, 2, 8) RMSE=1.805\n",
      "ARIMA(5, 2, 9) RMSE=1.888\n",
      "ARIMA(5, 2, 10) RMSE=1.858\n",
      "ARIMA(5, 2, 11) RMSE=1.992\n",
      "ARIMA(5, 2, 12) RMSE=1.875\n",
      "ARIMA(5, 3, 0) RMSE=2.306\n",
      "ARIMA(5, 3, 1) RMSE=1.907\n",
      "ARIMA(5, 3, 2) RMSE=1.872\n",
      "ARIMA(5, 3, 3) RMSE=2.011\n",
      "ARIMA(5, 3, 4) RMSE=1.863\n",
      "ARIMA(5, 3, 5) RMSE=1.779\n",
      "ARIMA(5, 3, 6) RMSE=1.872\n",
      "ARIMA(5, 3, 7) RMSE=1.877\n",
      "ARIMA(5, 3, 8) RMSE=1.820\n",
      "ARIMA(5, 3, 9) RMSE=1.840\n",
      "ARIMA(5, 3, 10) RMSE=1.897\n",
      "ARIMA(5, 3, 11) RMSE=1.801\n",
      "ARIMA(5, 3, 12) RMSE=1.892\n",
      "ARIMA(6, 0, 0) RMSE=1.846\n",
      "ARIMA(6, 0, 1) RMSE=1.872\n",
      "ARIMA(6, 0, 2) RMSE=1.869\n",
      "ARIMA(6, 0, 3) RMSE=1.846\n",
      "ARIMA(6, 0, 5) RMSE=1.990\n",
      "ARIMA(6, 0, 6) RMSE=1.923\n",
      "ARIMA(6, 0, 7) RMSE=2.030\n",
      "ARIMA(6, 0, 8) RMSE=2.013\n",
      "ARIMA(6, 0, 9) RMSE=1.957\n",
      "ARIMA(6, 0, 10) RMSE=2.036\n",
      "ARIMA(6, 0, 11) RMSE=2.084\n",
      "ARIMA(6, 0, 12) RMSE=2.136\n",
      "ARIMA(6, 1, 0) RMSE=1.747\n",
      "ARIMA(6, 1, 1) RMSE=1.786\n",
      "ARIMA(6, 1, 2) RMSE=1.804\n",
      "ARIMA(6, 1, 5) RMSE=1.912\n",
      "ARIMA(6, 1, 6) RMSE=1.800\n",
      "ARIMA(6, 1, 7) RMSE=1.915\n",
      "ARIMA(6, 1, 8) RMSE=1.992\n",
      "ARIMA(6, 1, 9) RMSE=1.782\n",
      "ARIMA(6, 1, 10) RMSE=1.890\n",
      "ARIMA(6, 1, 11) RMSE=2.024\n",
      "ARIMA(6, 1, 12) RMSE=1.976\n",
      "ARIMA(6, 2, 0) RMSE=1.908\n",
      "ARIMA(6, 2, 1) RMSE=1.737\n",
      "ARIMA(6, 2, 2) RMSE=1.722\n",
      "ARIMA(6, 2, 3) RMSE=1.777\n",
      "ARIMA(6, 2, 4) RMSE=1.870\n",
      "ARIMA(6, 2, 6) RMSE=1.791\n",
      "ARIMA(6, 2, 7) RMSE=1.805\n",
      "ARIMA(6, 2, 8) RMSE=1.777\n",
      "ARIMA(6, 2, 9) RMSE=1.890\n",
      "ARIMA(6, 2, 10) RMSE=1.843\n",
      "ARIMA(6, 2, 11) RMSE=1.970\n",
      "ARIMA(6, 2, 12) RMSE=2.026\n",
      "ARIMA(6, 3, 0) RMSE=2.334\n",
      "ARIMA(6, 3, 1) RMSE=1.923\n",
      "ARIMA(6, 3, 2) RMSE=160140.034\n",
      "ARIMA(6, 3, 3) RMSE=2.026\n",
      "ARIMA(6, 3, 4) RMSE=1.845\n",
      "ARIMA(6, 3, 5) RMSE=3.292\n",
      "ARIMA(6, 3, 6) RMSE=1.954\n",
      "ARIMA(6, 3, 7) RMSE=1.828\n",
      "ARIMA(6, 3, 8) RMSE=1.776\n",
      "ARIMA(6, 3, 9) RMSE=1.844\n",
      "ARIMA(6, 3, 10) RMSE=1.974\n",
      "ARIMA(6, 3, 11) RMSE=2.045\n",
      "ARIMA(6, 3, 12) RMSE=821.471\n",
      "ARIMA(7, 0, 0) RMSE=1.862\n",
      "ARIMA(7, 0, 1) RMSE=1.867\n",
      "ARIMA(7, 0, 2) RMSE=1.920\n",
      "ARIMA(7, 0, 3) RMSE=1.922\n",
      "ARIMA(7, 0, 4) RMSE=1.906\n",
      "ARIMA(7, 0, 6) RMSE=1.927\n",
      "ARIMA(7, 0, 7) RMSE=1.991\n",
      "ARIMA(7, 0, 8) RMSE=1.986\n",
      "ARIMA(7, 0, 9) RMSE=2.070\n",
      "ARIMA(7, 0, 10) RMSE=2.036\n",
      "ARIMA(7, 0, 11) RMSE=1.995\n",
      "ARIMA(7, 0, 12) RMSE=2.072\n",
      "ARIMA(7, 1, 0) RMSE=1.751\n",
      "ARIMA(7, 1, 1) RMSE=1.801\n",
      "ARIMA(7, 1, 2) RMSE=1.785\n",
      "ARIMA(7, 1, 3) RMSE=1.876\n",
      "ARIMA(7, 1, 4) RMSE=1.881\n",
      "ARIMA(7, 1, 5) RMSE=1.899\n",
      "ARIMA(7, 1, 6) RMSE=1.922\n",
      "ARIMA(7, 1, 8) RMSE=1.917\n",
      "ARIMA(7, 1, 9) RMSE=1.897\n",
      "ARIMA(7, 1, 10) RMSE=1.843\n",
      "ARIMA(7, 1, 11) RMSE=1.942\n",
      "ARIMA(7, 1, 12) RMSE=1.901\n",
      "ARIMA(7, 2, 0) RMSE=1.841\n",
      "ARIMA(7, 2, 1) RMSE=1.739\n",
      "ARIMA(7, 2, 2) RMSE=1.753\n",
      "ARIMA(7, 2, 3) RMSE=1.719\n",
      "ARIMA(7, 2, 4) RMSE=1.803\n",
      "ARIMA(7, 2, 5) RMSE=1.734\n",
      "ARIMA(7, 2, 6) RMSE=1.833\n",
      "ARIMA(7, 2, 7) RMSE=1.843\n",
      "ARIMA(7, 2, 8) RMSE=1.866\n",
      "ARIMA(7, 2, 10) RMSE=1.823\n",
      "ARIMA(7, 2, 11) RMSE=2.005\n",
      "ARIMA(7, 2, 12) RMSE=2.011\n",
      "ARIMA(7, 3, 0) RMSE=2.257\n",
      "ARIMA(7, 3, 1) RMSE=1.861\n",
      "ARIMA(7, 3, 2) RMSE=1.914\n",
      "ARIMA(7, 3, 3) RMSE=1.992\n",
      "ARIMA(7, 3, 4) RMSE=1.868\n",
      "ARIMA(7, 3, 5) RMSE=1.897\n",
      "ARIMA(7, 3, 6) RMSE=2.061\n",
      "ARIMA(7, 3, 7) RMSE=1.843\n",
      "ARIMA(7, 3, 8) RMSE=1.874\n",
      "ARIMA(7, 3, 9) RMSE=1.817\n",
      "ARIMA(7, 3, 10) RMSE=1.799\n",
      "ARIMA(7, 3, 11) RMSE=1.869\n",
      "ARIMA(7, 3, 12) RMSE=851.603\n",
      "ARIMA(8, 0, 0) RMSE=1.874\n",
      "ARIMA(8, 0, 1) RMSE=1.888\n",
      "ARIMA(8, 0, 2) RMSE=1.885\n",
      "ARIMA(8, 0, 3) RMSE=2.866\n",
      "ARIMA(8, 0, 4) RMSE=1.886\n",
      "ARIMA(8, 0, 5) RMSE=1.922\n",
      "ARIMA(8, 0, 6) RMSE=1.996\n",
      "ARIMA(8, 0, 7) RMSE=1.968\n",
      "ARIMA(8, 0, 8) RMSE=1.991\n",
      "ARIMA(8, 0, 9) RMSE=1.999\n",
      "ARIMA(8, 0, 10) RMSE=1.961\n",
      "ARIMA(8, 0, 11) RMSE=2.047\n",
      "ARIMA(8, 0, 12) RMSE=2.077\n",
      "ARIMA(8, 1, 0) RMSE=1.785\n",
      "ARIMA(8, 1, 1) RMSE=1.804\n",
      "ARIMA(8, 1, 2) RMSE=1.824\n",
      "ARIMA(8, 1, 4) RMSE=1.899\n",
      "ARIMA(8, 1, 5) RMSE=1.965\n",
      "ARIMA(8, 1, 6) RMSE=1.997\n",
      "ARIMA(8, 1, 7) RMSE=1.960\n",
      "ARIMA(8, 1, 8) RMSE=1.950\n",
      "ARIMA(8, 1, 9) RMSE=1.900\n",
      "ARIMA(8, 1, 10) RMSE=1.862\n",
      "ARIMA(8, 1, 11) RMSE=1.975\n",
      "ARIMA(8, 1, 12) RMSE=1.920\n",
      "ARIMA(8, 2, 0) RMSE=1.833\n",
      "ARIMA(8, 2, 1) RMSE=1.773\n",
      "ARIMA(8, 2, 2) RMSE=1.793\n",
      "ARIMA(8, 2, 3) RMSE=1.818\n",
      "ARIMA(8, 2, 4) RMSE=1.839\n",
      "ARIMA(8, 2, 5) RMSE=1.879\n",
      "ARIMA(8, 2, 6) RMSE=1.902\n",
      "ARIMA(8, 2, 7) RMSE=1.866\n",
      "ARIMA(8, 2, 8) RMSE=1.882\n",
      "ARIMA(8, 2, 9) RMSE=1.833\n",
      "ARIMA(8, 2, 10) RMSE=1.893\n",
      "ARIMA(8, 2, 11) RMSE=1.933\n",
      "ARIMA(8, 2, 12) RMSE=1.943\n",
      "ARIMA(8, 3, 0) RMSE=2.192\n",
      "ARIMA(8, 3, 1) RMSE=1.855\n",
      "ARIMA(8, 3, 2) RMSE=1.868\n",
      "ARIMA(8, 3, 3) RMSE=1.953\n",
      "ARIMA(8, 3, 4) RMSE=1.818\n",
      "ARIMA(8, 3, 5) RMSE=1.995\n",
      "ARIMA(8, 3, 6) RMSE=2.086\n",
      "ARIMA(8, 3, 7) RMSE=1.853\n",
      "ARIMA(8, 3, 8) RMSE=2.008\n",
      "ARIMA(8, 3, 9) RMSE=1.926\n",
      "ARIMA(8, 3, 11) RMSE=1.972\n",
      "ARIMA(8, 3, 12) RMSE=1475.764\n",
      "ARIMA(9, 0, 0) RMSE=1.889\n",
      "ARIMA(9, 0, 1) RMSE=1.902\n",
      "ARIMA(9, 0, 2) RMSE=1.920\n",
      "ARIMA(9, 0, 3) RMSE=1.935\n",
      "ARIMA(9, 0, 4) RMSE=1.962\n",
      "ARIMA(9, 0, 5) RMSE=2.040\n",
      "ARIMA(9, 0, 6) RMSE=2.068\n",
      "ARIMA(9, 0, 7) RMSE=2.067\n",
      "ARIMA(9, 0, 8) RMSE=2.043\n",
      "ARIMA(9, 0, 9) RMSE=2.041\n",
      "ARIMA(9, 0, 10) RMSE=2.018\n",
      "ARIMA(9, 0, 11) RMSE=2.030\n",
      "ARIMA(9, 0, 12) RMSE=2.028\n",
      "ARIMA(9, 1, 0) RMSE=1.813\n",
      "ARIMA(9, 1, 1) RMSE=1.819\n",
      "ARIMA(9, 1, 2) RMSE=4.477\n",
      "ARIMA(9, 1, 3) RMSE=1.937\n",
      "ARIMA(9, 1, 4) RMSE=1.946\n",
      "ARIMA(9, 1, 6) RMSE=1.931\n",
      "ARIMA(9, 1, 7) RMSE=1.979\n",
      "ARIMA(9, 1, 8) RMSE=1.965\n",
      "ARIMA(9, 1, 9) RMSE=1.934\n",
      "ARIMA(9, 1, 10) RMSE=1.931\n",
      "ARIMA(9, 1, 11) RMSE=1.950\n",
      "ARIMA(9, 1, 12) RMSE=1.947\n",
      "ARIMA(9, 2, 0) RMSE=1.876\n",
      "ARIMA(9, 2, 1) RMSE=1.805\n",
      "ARIMA(9, 2, 2) RMSE=1.817\n",
      "ARIMA(9, 2, 4) RMSE=1.849\n",
      "ARIMA(9, 2, 5) RMSE=1.892\n",
      "ARIMA(9, 2, 6) RMSE=1.882\n",
      "ARIMA(9, 2, 7) RMSE=1.912\n",
      "ARIMA(9, 2, 8) RMSE=1.922\n",
      "ARIMA(9, 2, 9) RMSE=1.822\n",
      "ARIMA(9, 2, 10) RMSE=1.833\n",
      "ARIMA(9, 2, 11) RMSE=1.935\n",
      "ARIMA(9, 2, 12) RMSE=1.849\n",
      "ARIMA(9, 3, 0) RMSE=2.159\n",
      "ARIMA(9, 3, 1) RMSE=1.892\n",
      "ARIMA(9, 3, 2) RMSE=126764058.372\n",
      "ARIMA(9, 3, 3) RMSE=1.860\n",
      "ARIMA(9, 3, 4) RMSE=2.025\n",
      "ARIMA(9, 3, 5) RMSE=1.836\n",
      "ARIMA(9, 3, 6) RMSE=1.977\n",
      "ARIMA(9, 3, 7) RMSE=1.969\n",
      "ARIMA(9, 3, 8) RMSE=1.983\n",
      "ARIMA(9, 3, 11) RMSE=1.874\n",
      "ARIMA(10, 0, 0) RMSE=1.905\n",
      "ARIMA(10, 0, 1) RMSE=1.922\n",
      "ARIMA(10, 0, 2) RMSE=2.002\n",
      "ARIMA(10, 0, 3) RMSE=2.003\n",
      "ARIMA(10, 0, 4) RMSE=1.953\n",
      "ARIMA(10, 0, 5) RMSE=2.024\n",
      "ARIMA(10, 0, 6) RMSE=2.015\n",
      "ARIMA(10, 0, 7) RMSE=2.050\n",
      "ARIMA(10, 0, 9) RMSE=2.019\n",
      "ARIMA(10, 0, 10) RMSE=2.032\n",
      "ARIMA(10, 0, 12) RMSE=2.111\n",
      "ARIMA(10, 1, 0) RMSE=1.830\n",
      "ARIMA(10, 1, 1) RMSE=1.837\n",
      "ARIMA(10, 1, 2) RMSE=1.904\n",
      "ARIMA(10, 1, 3) RMSE=1.925\n",
      "ARIMA(10, 1, 4) RMSE=1.908\n",
      "ARIMA(10, 1, 5) RMSE=1.861\n",
      "ARIMA(10, 1, 6) RMSE=1.926\n",
      "ARIMA(10, 1, 7) RMSE=2.012\n",
      "ARIMA(10, 1, 8) RMSE=1.977\n",
      "ARIMA(10, 1, 9) RMSE=2.013\n",
      "ARIMA(10, 1, 10) RMSE=2.060\n",
      "ARIMA(10, 1, 11) RMSE=2.059\n",
      "ARIMA(10, 1, 12) RMSE=1.981\n",
      "ARIMA(10, 2, 0) RMSE=1.883\n",
      "ARIMA(10, 2, 1) RMSE=1.821\n",
      "ARIMA(10, 2, 2) RMSE=1.826\n",
      "ARIMA(10, 2, 3) RMSE=3.620\n",
      "ARIMA(10, 2, 4) RMSE=1.882\n",
      "ARIMA(10, 2, 5) RMSE=1.917\n",
      "ARIMA(10, 2, 6) RMSE=1.820\n",
      "ARIMA(10, 2, 7) RMSE=1.847\n",
      "ARIMA(10, 2, 8) RMSE=1.825\n",
      "ARIMA(10, 2, 9) RMSE=1.837\n",
      "ARIMA(10, 2, 11) RMSE=1.898\n",
      "ARIMA(10, 2, 12) RMSE=1.918\n",
      "ARIMA(10, 3, 0) RMSE=2.044\n",
      "ARIMA(10, 3, 1) RMSE=1.897\n",
      "ARIMA(10, 3, 2) RMSE=1.934\n",
      "ARIMA(10, 3, 3) RMSE=1.922\n",
      "ARIMA(10, 3, 4) RMSE=2.030\n",
      "ARIMA(10, 3, 5) RMSE=2.048\n",
      "ARIMA(10, 3, 6) RMSE=1.878\n",
      "ARIMA(10, 3, 7) RMSE=1.884\n",
      "ARIMA(10, 3, 8) RMSE=1.858\n",
      "ARIMA(10, 3, 9) RMSE=1.908\n",
      "ARIMA(10, 3, 10) RMSE=1.900\n",
      "ARIMA(10, 3, 11) RMSE=821.471\n",
      "ARIMA(10, 3, 12) RMSE=1975.021\n",
      "ARIMA(11, 0, 0) RMSE=1.940\n",
      "ARIMA(11, 0, 1) RMSE=1.952\n",
      "ARIMA(11, 0, 2) RMSE=2.124\n",
      "ARIMA(11, 0, 3) RMSE=2.047\n",
      "ARIMA(11, 0, 4) RMSE=1.924\n",
      "ARIMA(11, 0, 5) RMSE=2.028\n",
      "ARIMA(11, 0, 6) RMSE=2.077\n",
      "ARIMA(11, 0, 7) RMSE=1.982\n",
      "ARIMA(11, 0, 8) RMSE=2.058\n",
      "ARIMA(11, 0, 10) RMSE=2.105\n",
      "ARIMA(11, 0, 11) RMSE=2.028\n",
      "ARIMA(11, 0, 12) RMSE=2.104\n",
      "ARIMA(11, 1, 0) RMSE=1.843\n",
      "ARIMA(11, 1, 1) RMSE=1.853\n",
      "ARIMA(11, 1, 2) RMSE=1.922\n",
      "ARIMA(11, 1, 3) RMSE=1.896\n",
      "ARIMA(11, 1, 4) RMSE=1.888\n",
      "ARIMA(11, 1, 5) RMSE=1.958\n",
      "ARIMA(11, 1, 6) RMSE=1.864\n",
      "ARIMA(11, 1, 7) RMSE=1.933\n",
      "ARIMA(11, 1, 9) RMSE=1.968\n",
      "ARIMA(11, 1, 10) RMSE=1.912\n",
      "ARIMA(11, 1, 11) RMSE=2.008\n",
      "ARIMA(11, 1, 12) RMSE=2.433\n",
      "ARIMA(11, 2, 0) RMSE=1.895\n",
      "ARIMA(11, 2, 1) RMSE=1.831\n",
      "ARIMA(11, 2, 2) RMSE=1.820\n",
      "ARIMA(11, 2, 3) RMSE=1551285.108\n",
      "ARIMA(11, 2, 4) RMSE=1.916\n",
      "ARIMA(11, 2, 5) RMSE=1.891\n",
      "ARIMA(11, 2, 6) RMSE=1.889\n",
      "ARIMA(11, 2, 7) RMSE=10.137\n",
      "ARIMA(11, 2, 8) RMSE=1.890\n",
      "ARIMA(11, 2, 9) RMSE=1.936\n",
      "ARIMA(11, 2, 10) RMSE=1.949\n",
      "ARIMA(11, 2, 11) RMSE=1.995\n",
      "ARIMA(11, 3, 0) RMSE=2.098\n",
      "ARIMA(11, 3, 1) RMSE=1.907\n",
      "ARIMA(11, 3, 2) RMSE=1.922\n",
      "ARIMA(11, 3, 3) RMSE=1.915\n",
      "ARIMA(11, 3, 4) RMSE=2.008\n",
      "ARIMA(11, 3, 5) RMSE=1.984\n",
      "ARIMA(11, 3, 7) RMSE=1.865\n",
      "ARIMA(11, 3, 8) RMSE=1.983\n",
      "ARIMA(11, 3, 9) RMSE=1.962\n",
      "ARIMA(11, 3, 10) RMSE=1.948\n",
      "ARIMA(11, 3, 11) RMSE=1183.233\n",
      "ARIMA(11, 3, 12) RMSE=1768.762\n",
      "ARIMA(12, 0, 0) RMSE=1.963\n",
      "ARIMA(12, 0, 1) RMSE=1.955\n",
      "ARIMA(12, 0, 2) RMSE=1.983\n",
      "ARIMA(12, 0, 3) RMSE=1.980\n",
      "ARIMA(12, 0, 4) RMSE=2.020\n",
      "ARIMA(12, 0, 5) RMSE=2.031\n",
      "ARIMA(12, 0, 6) RMSE=2.027\n",
      "ARIMA(12, 0, 7) RMSE=1.973\n",
      "ARIMA(12, 0, 8) RMSE=2.012\n",
      "ARIMA(12, 0, 9) RMSE=2.021\n",
      "ARIMA(12, 0, 11) RMSE=2.094\n",
      "ARIMA(12, 0, 12) RMSE=2.169\n",
      "ARIMA(12, 1, 0) RMSE=1.821\n",
      "ARIMA(12, 1, 1) RMSE=1.872\n",
      "ARIMA(12, 1, 2) RMSE=1.923\n",
      "ARIMA(12, 1, 3) RMSE=1.938\n",
      "ARIMA(12, 1, 4) RMSE=2.017\n",
      "ARIMA(12, 1, 5) RMSE=1.930\n",
      "ARIMA(12, 1, 6) RMSE=2.077\n",
      "ARIMA(12, 1, 7) RMSE=1.956\n",
      "ARIMA(12, 1, 8) RMSE=1.985\n",
      "ARIMA(12, 1, 9) RMSE=1.954\n",
      "ARIMA(12, 1, 11) RMSE=2.026\n",
      "ARIMA(12, 2, 0) RMSE=1.909\n",
      "ARIMA(12, 2, 1) RMSE=1.798\n",
      "ARIMA(12, 2, 2) RMSE=1.857\n",
      "ARIMA(12, 2, 3) RMSE=1.841\n",
      "ARIMA(12, 2, 4) RMSE=1.860\n",
      "ARIMA(12, 2, 5) RMSE=1.844\n",
      "ARIMA(12, 2, 6) RMSE=1.861\n",
      "ARIMA(12, 2, 7) RMSE=4.567\n",
      "ARIMA(12, 2, 8) RMSE=1.900\n",
      "ARIMA(12, 2, 9) RMSE=1.931\n",
      "ARIMA(12, 2, 10) RMSE=2.000\n",
      "ARIMA(12, 2, 11) RMSE=1.940\n",
      "ARIMA(12, 3, 0) RMSE=2.108\n",
      "ARIMA(12, 3, 1) RMSE=1.925\n",
      "ARIMA(12, 3, 2) RMSE=1.948\n",
      "ARIMA(12, 3, 3) RMSE=1.918\n",
      "ARIMA(12, 3, 4) RMSE=1.990\n",
      "ARIMA(12, 3, 7) RMSE=1.876\n",
      "ARIMA(12, 3, 8) RMSE=2.005\n",
      "ARIMA(12, 3, 9) RMSE=1.938\n",
      "ARIMA(12, 3, 10) RMSE=2.049\n",
      "ARIMA(12, 3, 11) RMSE=1475.764\n",
      "ARIMA(12, 3, 12) RMSE=2422.024\n",
      "Best ARIMA(2, 2, 3) RMSE=1.651\n"
     ]
    }
   ],
   "source": [
    "# evaluate parameters\n",
    "p_values = range(0,13)\n",
    "d_values = range(0, 4)\n",
    "q_values = range(0, 13)\n",
    "warnings.filterwarnings(\"ignore\")\n",
    "evaluate_models(series.values, p_values, d_values, q_values)"
   ]
  },
  {
   "cell_type": "markdown",
   "id": "79416800",
   "metadata": {},
   "source": [
    "The results show that the best configuration discovered was ARIMA(2,2,3)."
   ]
  },
  {
   "cell_type": "markdown",
   "id": "3fb4a337",
   "metadata": {},
   "source": [
    "#### 3. Review Residual Errors"
   ]
  },
  {
   "cell_type": "code",
   "execution_count": 55,
   "id": "999ff11c",
   "metadata": {},
   "outputs": [
    {
     "name": "stderr",
     "output_type": "stream",
     "text": [
      "C:\\ProgramData\\Anaconda3\\lib\\site-packages\\statsmodels\\tsa\\statespace\\sarimax.py:966: UserWarning: Non-stationary starting autoregressive parameters found. Using zeros as starting parameters.\n",
      "  warn('Non-stationary starting autoregressive parameters'\n",
      "C:\\ProgramData\\Anaconda3\\lib\\site-packages\\statsmodels\\tsa\\statespace\\sarimax.py:978: UserWarning: Non-invertible starting MA parameters found. Using zeros as starting parameters.\n",
      "  warn('Non-invertible starting MA parameters found.'\n",
      "C:\\ProgramData\\Anaconda3\\lib\\site-packages\\statsmodels\\base\\model.py:566: ConvergenceWarning: Maximum Likelihood optimization failed to converge. Check mle_retvals\n",
      "  warnings.warn(\"Maximum Likelihood optimization failed to \"\n",
      "C:\\ProgramData\\Anaconda3\\lib\\site-packages\\statsmodels\\base\\model.py:566: ConvergenceWarning: Maximum Likelihood optimization failed to converge. Check mle_retvals\n",
      "  warnings.warn(\"Maximum Likelihood optimization failed to \"\n",
      "C:\\ProgramData\\Anaconda3\\lib\\site-packages\\statsmodels\\base\\model.py:566: ConvergenceWarning: Maximum Likelihood optimization failed to converge. Check mle_retvals\n",
      "  warnings.warn(\"Maximum Likelihood optimization failed to \"\n",
      "C:\\ProgramData\\Anaconda3\\lib\\site-packages\\statsmodels\\base\\model.py:566: ConvergenceWarning: Maximum Likelihood optimization failed to converge. Check mle_retvals\n",
      "  warnings.warn(\"Maximum Likelihood optimization failed to \"\n",
      "C:\\ProgramData\\Anaconda3\\lib\\site-packages\\statsmodels\\base\\model.py:566: ConvergenceWarning: Maximum Likelihood optimization failed to converge. Check mle_retvals\n",
      "  warnings.warn(\"Maximum Likelihood optimization failed to \"\n",
      "C:\\ProgramData\\Anaconda3\\lib\\site-packages\\statsmodels\\base\\model.py:566: ConvergenceWarning: Maximum Likelihood optimization failed to converge. Check mle_retvals\n",
      "  warnings.warn(\"Maximum Likelihood optimization failed to \"\n",
      "C:\\ProgramData\\Anaconda3\\lib\\site-packages\\statsmodels\\base\\model.py:566: ConvergenceWarning: Maximum Likelihood optimization failed to converge. Check mle_retvals\n",
      "  warnings.warn(\"Maximum Likelihood optimization failed to \"\n",
      "C:\\ProgramData\\Anaconda3\\lib\\site-packages\\statsmodels\\base\\model.py:566: ConvergenceWarning: Maximum Likelihood optimization failed to converge. Check mle_retvals\n",
      "  warnings.warn(\"Maximum Likelihood optimization failed to \"\n",
      "C:\\ProgramData\\Anaconda3\\lib\\site-packages\\statsmodels\\base\\model.py:566: ConvergenceWarning: Maximum Likelihood optimization failed to converge. Check mle_retvals\n",
      "  warnings.warn(\"Maximum Likelihood optimization failed to \"\n",
      "C:\\ProgramData\\Anaconda3\\lib\\site-packages\\statsmodels\\base\\model.py:566: ConvergenceWarning: Maximum Likelihood optimization failed to converge. Check mle_retvals\n",
      "  warnings.warn(\"Maximum Likelihood optimization failed to \"\n",
      "C:\\ProgramData\\Anaconda3\\lib\\site-packages\\statsmodels\\base\\model.py:566: ConvergenceWarning: Maximum Likelihood optimization failed to converge. Check mle_retvals\n",
      "  warnings.warn(\"Maximum Likelihood optimization failed to \"\n",
      "C:\\ProgramData\\Anaconda3\\lib\\site-packages\\statsmodels\\base\\model.py:566: ConvergenceWarning: Maximum Likelihood optimization failed to converge. Check mle_retvals\n",
      "  warnings.warn(\"Maximum Likelihood optimization failed to \"\n",
      "C:\\ProgramData\\Anaconda3\\lib\\site-packages\\statsmodels\\base\\model.py:566: ConvergenceWarning: Maximum Likelihood optimization failed to converge. Check mle_retvals\n",
      "  warnings.warn(\"Maximum Likelihood optimization failed to \"\n",
      "C:\\ProgramData\\Anaconda3\\lib\\site-packages\\statsmodels\\base\\model.py:566: ConvergenceWarning: Maximum Likelihood optimization failed to converge. Check mle_retvals\n",
      "  warnings.warn(\"Maximum Likelihood optimization failed to \"\n",
      "C:\\ProgramData\\Anaconda3\\lib\\site-packages\\statsmodels\\base\\model.py:566: ConvergenceWarning: Maximum Likelihood optimization failed to converge. Check mle_retvals\n",
      "  warnings.warn(\"Maximum Likelihood optimization failed to \"\n",
      "C:\\ProgramData\\Anaconda3\\lib\\site-packages\\statsmodels\\base\\model.py:566: ConvergenceWarning: Maximum Likelihood optimization failed to converge. Check mle_retvals\n",
      "  warnings.warn(\"Maximum Likelihood optimization failed to \"\n",
      "C:\\ProgramData\\Anaconda3\\lib\\site-packages\\statsmodels\\base\\model.py:566: ConvergenceWarning: Maximum Likelihood optimization failed to converge. Check mle_retvals\n",
      "  warnings.warn(\"Maximum Likelihood optimization failed to \"\n",
      "C:\\ProgramData\\Anaconda3\\lib\\site-packages\\statsmodels\\base\\model.py:566: ConvergenceWarning: Maximum Likelihood optimization failed to converge. Check mle_retvals\n",
      "  warnings.warn(\"Maximum Likelihood optimization failed to \"\n",
      "C:\\ProgramData\\Anaconda3\\lib\\site-packages\\statsmodels\\base\\model.py:566: ConvergenceWarning: Maximum Likelihood optimization failed to converge. Check mle_retvals\n",
      "  warnings.warn(\"Maximum Likelihood optimization failed to \"\n",
      "C:\\ProgramData\\Anaconda3\\lib\\site-packages\\statsmodels\\base\\model.py:566: ConvergenceWarning: Maximum Likelihood optimization failed to converge. Check mle_retvals\n",
      "  warnings.warn(\"Maximum Likelihood optimization failed to \"\n",
      "C:\\ProgramData\\Anaconda3\\lib\\site-packages\\statsmodels\\base\\model.py:566: ConvergenceWarning: Maximum Likelihood optimization failed to converge. Check mle_retvals\n",
      "  warnings.warn(\"Maximum Likelihood optimization failed to \"\n",
      "C:\\ProgramData\\Anaconda3\\lib\\site-packages\\statsmodels\\base\\model.py:566: ConvergenceWarning: Maximum Likelihood optimization failed to converge. Check mle_retvals\n",
      "  warnings.warn(\"Maximum Likelihood optimization failed to \"\n",
      "C:\\ProgramData\\Anaconda3\\lib\\site-packages\\statsmodels\\base\\model.py:566: ConvergenceWarning: Maximum Likelihood optimization failed to converge. Check mle_retvals\n",
      "  warnings.warn(\"Maximum Likelihood optimization failed to \"\n",
      "C:\\ProgramData\\Anaconda3\\lib\\site-packages\\statsmodels\\base\\model.py:566: ConvergenceWarning: Maximum Likelihood optimization failed to converge. Check mle_retvals\n",
      "  warnings.warn(\"Maximum Likelihood optimization failed to \"\n",
      "C:\\ProgramData\\Anaconda3\\lib\\site-packages\\statsmodels\\base\\model.py:566: ConvergenceWarning: Maximum Likelihood optimization failed to converge. Check mle_retvals\n",
      "  warnings.warn(\"Maximum Likelihood optimization failed to \"\n",
      "C:\\ProgramData\\Anaconda3\\lib\\site-packages\\statsmodels\\base\\model.py:566: ConvergenceWarning: Maximum Likelihood optimization failed to converge. Check mle_retvals\n",
      "  warnings.warn(\"Maximum Likelihood optimization failed to \"\n",
      "C:\\ProgramData\\Anaconda3\\lib\\site-packages\\statsmodels\\base\\model.py:566: ConvergenceWarning: Maximum Likelihood optimization failed to converge. Check mle_retvals\n",
      "  warnings.warn(\"Maximum Likelihood optimization failed to \"\n"
     ]
    },
    {
     "data": {
      "image/png": "[encoded data removed]",
      "text/plain": [
       "<Figure size 432x288 with 2 Axes>"
      ]
     },
     "metadata": {
      "needs_background": "light"
     },
     "output_type": "display_data"
    }
   ],
   "source": [
    "# plot residual errors for ARIMA model\n",
    "\n",
    "# walk-forward validation\n",
    "history = [x for x in train]\n",
    "predictions = list()\n",
    "for i in range(len(valid)):\n",
    "    # predict\n",
    "    model = ARIMA(history, order=(2,2,3))\n",
    "    model_fit = model.fit()\n",
    "    yhat = model_fit.forecast()[0]\n",
    "    predictions.append(yhat)\n",
    "    # observation\n",
    "    obs = valid[i]\n",
    "    history.append(obs)\n",
    "\n",
    "# errors\n",
    "residuals = [valid[i]-predictions[i] for i in range(len(valid))]\n",
    "residuals = pd.DataFrame(residuals)\n",
    "plt.figure()\n",
    "plt.subplot(211)\n",
    "residuals.hist(ax=plt.gca())\n",
    "plt.subplot(212)\n",
    "residuals.plot(kind='kde', ax=plt.gca())\n",
    "plt.show()"
   ]
  },
  {
   "cell_type": "code",
   "execution_count": 56,
   "id": "0caa7c2c",
   "metadata": {},
   "outputs": [
    {
     "data": {
      "text/plain": [
       "<AxesSubplot:>"
      ]
     },
     "execution_count": 56,
     "metadata": {},
     "output_type": "execute_result"
    },
    {
     "data": {
      "image/png": "[encoded data removed]",
      "text/plain": [
       "<Figure size 432x288 with 1 Axes>"
      ]
     },
     "metadata": {
      "needs_background": "light"
     },
     "output_type": "display_data"
    }
   ],
   "source": [
    "residuals.plot()"
   ]
  },
  {
   "cell_type": "code",
   "execution_count": 57,
   "id": "1babcdcf",
   "metadata": {},
   "outputs": [
    {
     "name": "stdout",
     "output_type": "stream",
     "text": [
      "1. ADF :  -5.043804780032571\n",
      "2. P-Value :  1.8164265100457958e-05\n",
      "3. Num Of Lags :  0\n",
      "4. Num Of Observations Used For ADF Regression: 27\n",
      "5. Critical Values :\n",
      "\t 1% :  -3.6996079738860943\n",
      "\t 5% :  -2.9764303469999494\n",
      "\t 10% :  -2.627601001371742\n"
     ]
    }
   ],
   "source": [
    "#checking for stationarity\n",
    "ad_test(residuals)"
   ]
  },
  {
   "cell_type": "markdown",
   "id": "cf0025b8",
   "metadata": {},
   "source": [
    "The graphs suggests a Gaussian distribution. and Dickey Fuller Test shows that the residuals series is stationary so there are no trend and seasonality in our residuals time series."
   ]
  },
  {
   "cell_type": "code",
   "execution_count": 59,
   "id": "ff497793",
   "metadata": {},
   "outputs": [
    {
     "data": {
      "image/png": "[encoded data removed]",
      "text/plain": [
       "<Figure size 432x288 with 2 Axes>"
      ]
     },
     "metadata": {
      "needs_background": "light"
     },
     "output_type": "display_data"
    }
   ],
   "source": [
    "# ACF and PACF plots of forecast residual errors\n",
    "plt.figure()\n",
    "plt.subplot(211)\n",
    "plot_acf(residuals, lags=25, ax=plt.gca())\n",
    "plt.subplot(212)\n",
    "plot_pacf(residuals, lags=13, ax=plt.gca())\n",
    "plt.show()"
   ]
  },
  {
   "cell_type": "code",
   "execution_count": 60,
   "id": "ebe16282",
   "metadata": {},
   "outputs": [
    {
     "data": {
      "text/html": [
       "<div>\n",
       "<style scoped>\n",
       "    .dataframe tbody tr th:only-of-type {\n",
       "        vertical-align: middle;\n",
       "    }\n",
       "\n",
       "    .dataframe tbody tr th {\n",
       "        vertical-align: top;\n",
       "    }\n",
       "\n",
       "    .dataframe thead th {\n",
       "        text-align: right;\n",
       "    }\n",
       "</style>\n",
       "<table border=\"1\" class=\"dataframe\">\n",
       "  <thead>\n",
       "    <tr style=\"text-align: right;\">\n",
       "      <th></th>\n",
       "      <th>0</th>\n",
       "    </tr>\n",
       "  </thead>\n",
       "  <tbody>\n",
       "    <tr>\n",
       "      <th>count</th>\n",
       "      <td>28.000000</td>\n",
       "    </tr>\n",
       "    <tr>\n",
       "      <th>mean</th>\n",
       "      <td>0.261214</td>\n",
       "    </tr>\n",
       "    <tr>\n",
       "      <th>std</th>\n",
       "      <td>2.032395</td>\n",
       "    </tr>\n",
       "    <tr>\n",
       "      <th>min</th>\n",
       "      <td>-3.790819</td>\n",
       "    </tr>\n",
       "    <tr>\n",
       "      <th>25%</th>\n",
       "      <td>-1.170880</td>\n",
       "    </tr>\n",
       "    <tr>\n",
       "      <th>50%</th>\n",
       "      <td>0.460745</td>\n",
       "    </tr>\n",
       "    <tr>\n",
       "      <th>75%</th>\n",
       "      <td>1.513653</td>\n",
       "    </tr>\n",
       "    <tr>\n",
       "      <th>max</th>\n",
       "      <td>4.124569</td>\n",
       "    </tr>\n",
       "  </tbody>\n",
       "</table>\n",
       "</div>"
      ],
      "text/plain": [
       "               0\n",
       "count  28.000000\n",
       "mean    0.261214\n",
       "std     2.032395\n",
       "min    -3.790819\n",
       "25%    -1.170880\n",
       "50%     0.460745\n",
       "75%     1.513653\n",
       "max     4.124569"
      ]
     },
     "execution_count": 60,
     "metadata": {},
     "output_type": "execute_result"
    }
   ],
   "source": [
    "residuals.describe()"
   ]
  },
  {
   "cell_type": "markdown",
   "id": "f672ae6c",
   "metadata": {},
   "source": [
    "## Model Validation"
   ]
  },
  {
   "cell_type": "markdown",
   "id": "de0bc3b6",
   "metadata": {},
   "source": [
    "#### 1. Finalize Model"
   ]
  },
  {
   "cell_type": "code",
   "execution_count": 61,
   "id": "3a4a0565",
   "metadata": {},
   "outputs": [
    {
     "name": "stderr",
     "output_type": "stream",
     "text": [
      "C:\\ProgramData\\Anaconda3\\lib\\site-packages\\statsmodels\\base\\model.py:566: ConvergenceWarning: Maximum Likelihood optimization failed to converge. Check mle_retvals\n",
      "  warnings.warn(\"Maximum Likelihood optimization failed to \"\n"
     ]
    }
   ],
   "source": [
    "import numpy as np\n",
    "\n",
    "#fit model\n",
    "model = ARIMA(X,order=(2,2,3))\n",
    "model_fit = model.fit()\n",
    "# bias constant, could be calculated from in-sample mean residual\n",
    "bias = 0.261214\n",
    "#save modelabs\n",
    "model_fit.save('DailyDelhiClimateModel.pkl')\n",
    "np.save('model_bias.npy', [bias])"
   ]
  },
  {
   "cell_type": "markdown",
   "id": "ef30168e",
   "metadata": {},
   "source": [
    "#### 2. Make Predictions"
   ]
  },
  {
   "cell_type": "code",
   "execution_count": 62,
   "id": "99f77da1",
   "metadata": {},
   "outputs": [],
   "source": [
    "from statsmodels.tsa.arima.model import ARIMAResults\n",
    "\n",
    "model_fit = ARIMAResults.load('DailyDelhiClimateModel.pkl')\n",
    "bias = np.load('model_bias.npy')\n",
    "yhat = bias + float(model_fit.forecast()[0])\n"
   ]
  },
  {
   "cell_type": "code",
   "execution_count": 63,
   "id": "b48dd1f7",
   "metadata": {},
   "outputs": [
    {
     "name": "stdout",
     "output_type": "stream",
     "text": [
      "Predicted: 32.833\n"
     ]
    }
   ],
   "source": [
    "print('Predicted: %.3f' %yhat)"
   ]
  },
  {
   "cell_type": "markdown",
   "id": "55b724c4",
   "metadata": {},
   "source": [
    "#### 3. Model Validation"
   ]
  },
  {
   "cell_type": "code",
   "execution_count": 64,
   "id": "3c600d4f",
   "metadata": {},
   "outputs": [
    {
     "name": "stdout",
     "output_type": "stream",
     "text": [
      ">Predicted=32.833, Expected=29.500\n"
     ]
    }
   ],
   "source": [
    "y = test\n",
    "# make first prediction\n",
    "predictions = list()\n",
    "yhat = bias + float(model_fit.forecast()[0])\n",
    "predictions.append(yhat)\n",
    "history.append(y[0])\n",
    "print('>Predicted=%.3f, Expected=%.3f' % (yhat, y[0]))\n"
   ]
  },
  {
   "cell_type": "code",
   "execution_count": 65,
   "id": "f3c2dbd2",
   "metadata": {},
   "outputs": [
    {
     "name": "stdout",
     "output_type": "stream",
     "text": [
      ">Predicted=30.001, Expected=29.889\n"
     ]
    },
    {
     "name": "stderr",
     "output_type": "stream",
     "text": [
      "C:\\ProgramData\\Anaconda3\\lib\\site-packages\\statsmodels\\base\\model.py:566: ConvergenceWarning: Maximum Likelihood optimization failed to converge. Check mle_retvals\n",
      "  warnings.warn(\"Maximum Likelihood optimization failed to \"\n"
     ]
    },
    {
     "name": "stdout",
     "output_type": "stream",
     "text": [
      ">Predicted=30.789, Expected=31.000\n"
     ]
    },
    {
     "name": "stderr",
     "output_type": "stream",
     "text": [
      "C:\\ProgramData\\Anaconda3\\lib\\site-packages\\statsmodels\\base\\model.py:566: ConvergenceWarning: Maximum Likelihood optimization failed to converge. Check mle_retvals\n",
      "  warnings.warn(\"Maximum Likelihood optimization failed to \"\n"
     ]
    },
    {
     "name": "stdout",
     "output_type": "stream",
     "text": [
      ">Predicted=31.156, Expected=29.286\n"
     ]
    },
    {
     "name": "stderr",
     "output_type": "stream",
     "text": [
      "C:\\ProgramData\\Anaconda3\\lib\\site-packages\\statsmodels\\base\\model.py:566: ConvergenceWarning: Maximum Likelihood optimization failed to converge. Check mle_retvals\n",
      "  warnings.warn(\"Maximum Likelihood optimization failed to \"\n"
     ]
    },
    {
     "name": "stdout",
     "output_type": "stream",
     "text": [
      ">Predicted=29.752, Expected=30.625\n"
     ]
    },
    {
     "name": "stderr",
     "output_type": "stream",
     "text": [
      "C:\\ProgramData\\Anaconda3\\lib\\site-packages\\statsmodels\\base\\model.py:566: ConvergenceWarning: Maximum Likelihood optimization failed to converge. Check mle_retvals\n",
      "  warnings.warn(\"Maximum Likelihood optimization failed to \"\n"
     ]
    },
    {
     "name": "stdout",
     "output_type": "stream",
     "text": [
      ">Predicted=31.438, Expected=31.375\n"
     ]
    },
    {
     "name": "stderr",
     "output_type": "stream",
     "text": [
      "C:\\ProgramData\\Anaconda3\\lib\\site-packages\\statsmodels\\base\\model.py:566: ConvergenceWarning: Maximum Likelihood optimization failed to converge. Check mle_retvals\n",
      "  warnings.warn(\"Maximum Likelihood optimization failed to \"\n"
     ]
    },
    {
     "name": "stdout",
     "output_type": "stream",
     "text": [
      ">Predicted=31.350, Expected=29.750\n"
     ]
    },
    {
     "name": "stderr",
     "output_type": "stream",
     "text": [
      "C:\\ProgramData\\Anaconda3\\lib\\site-packages\\statsmodels\\base\\model.py:566: ConvergenceWarning: Maximum Likelihood optimization failed to converge. Check mle_retvals\n",
      "  warnings.warn(\"Maximum Likelihood optimization failed to \"\n"
     ]
    },
    {
     "name": "stdout",
     "output_type": "stream",
     "text": [
      ">Predicted=30.417, Expected=30.500\n"
     ]
    },
    {
     "name": "stderr",
     "output_type": "stream",
     "text": [
      "C:\\ProgramData\\Anaconda3\\lib\\site-packages\\statsmodels\\base\\model.py:566: ConvergenceWarning: Maximum Likelihood optimization failed to converge. Check mle_retvals\n",
      "  warnings.warn(\"Maximum Likelihood optimization failed to \"\n"
     ]
    },
    {
     "name": "stdout",
     "output_type": "stream",
     "text": [
      ">Predicted=31.078, Expected=30.933\n"
     ]
    },
    {
     "name": "stderr",
     "output_type": "stream",
     "text": [
      "C:\\ProgramData\\Anaconda3\\lib\\site-packages\\statsmodels\\base\\model.py:566: ConvergenceWarning: Maximum Likelihood optimization failed to converge. Check mle_retvals\n",
      "  warnings.warn(\"Maximum Likelihood optimization failed to \"\n"
     ]
    },
    {
     "name": "stdout",
     "output_type": "stream",
     "text": [
      ">Predicted=30.889, Expected=29.231\n"
     ]
    },
    {
     "name": "stderr",
     "output_type": "stream",
     "text": [
      "C:\\ProgramData\\Anaconda3\\lib\\site-packages\\statsmodels\\base\\model.py:566: ConvergenceWarning: Maximum Likelihood optimization failed to converge. Check mle_retvals\n",
      "  warnings.warn(\"Maximum Likelihood optimization failed to \"\n"
     ]
    },
    {
     "name": "stdout",
     "output_type": "stream",
     "text": [
      ">Predicted=30.192, Expected=31.222\n"
     ]
    },
    {
     "name": "stderr",
     "output_type": "stream",
     "text": [
      "C:\\ProgramData\\Anaconda3\\lib\\site-packages\\statsmodels\\base\\model.py:566: ConvergenceWarning: Maximum Likelihood optimization failed to converge. Check mle_retvals\n",
      "  warnings.warn(\"Maximum Likelihood optimization failed to \"\n"
     ]
    },
    {
     "name": "stdout",
     "output_type": "stream",
     "text": [
      ">Predicted=31.368, Expected=27.000\n"
     ]
    },
    {
     "name": "stderr",
     "output_type": "stream",
     "text": [
      "C:\\ProgramData\\Anaconda3\\lib\\site-packages\\statsmodels\\base\\model.py:566: ConvergenceWarning: Maximum Likelihood optimization failed to converge. Check mle_retvals\n",
      "  warnings.warn(\"Maximum Likelihood optimization failed to \"\n"
     ]
    },
    {
     "name": "stdout",
     "output_type": "stream",
     "text": [
      ">Predicted=27.687, Expected=25.625\n"
     ]
    },
    {
     "name": "stderr",
     "output_type": "stream",
     "text": [
      "C:\\ProgramData\\Anaconda3\\lib\\site-packages\\statsmodels\\base\\model.py:566: ConvergenceWarning: Maximum Likelihood optimization failed to converge. Check mle_retvals\n",
      "  warnings.warn(\"Maximum Likelihood optimization failed to \"\n"
     ]
    },
    {
     "name": "stdout",
     "output_type": "stream",
     "text": [
      ">Predicted=26.555, Expected=27.125\n"
     ]
    },
    {
     "name": "stderr",
     "output_type": "stream",
     "text": [
      "C:\\ProgramData\\Anaconda3\\lib\\site-packages\\statsmodels\\base\\model.py:566: ConvergenceWarning: Maximum Likelihood optimization failed to converge. Check mle_retvals\n",
      "  warnings.warn(\"Maximum Likelihood optimization failed to \"\n"
     ]
    },
    {
     "name": "stdout",
     "output_type": "stream",
     "text": [
      ">Predicted=26.645, Expected=27.857\n"
     ]
    },
    {
     "name": "stderr",
     "output_type": "stream",
     "text": [
      "C:\\ProgramData\\Anaconda3\\lib\\site-packages\\statsmodels\\base\\model.py:566: ConvergenceWarning: Maximum Likelihood optimization failed to converge. Check mle_retvals\n",
      "  warnings.warn(\"Maximum Likelihood optimization failed to \"\n"
     ]
    },
    {
     "name": "stdout",
     "output_type": "stream",
     "text": [
      ">Predicted=28.788, Expected=29.250\n"
     ]
    },
    {
     "name": "stderr",
     "output_type": "stream",
     "text": [
      "C:\\ProgramData\\Anaconda3\\lib\\site-packages\\statsmodels\\base\\model.py:566: ConvergenceWarning: Maximum Likelihood optimization failed to converge. Check mle_retvals\n",
      "  warnings.warn(\"Maximum Likelihood optimization failed to \"\n"
     ]
    },
    {
     "name": "stdout",
     "output_type": "stream",
     "text": [
      ">Predicted=29.926, Expected=29.250\n"
     ]
    },
    {
     "name": "stderr",
     "output_type": "stream",
     "text": [
      "C:\\ProgramData\\Anaconda3\\lib\\site-packages\\statsmodels\\base\\model.py:566: ConvergenceWarning: Maximum Likelihood optimization failed to converge. Check mle_retvals\n",
      "  warnings.warn(\"Maximum Likelihood optimization failed to \"\n"
     ]
    },
    {
     "name": "stdout",
     "output_type": "stream",
     "text": [
      ">Predicted=29.167, Expected=29.667\n"
     ]
    },
    {
     "name": "stderr",
     "output_type": "stream",
     "text": [
      "C:\\ProgramData\\Anaconda3\\lib\\site-packages\\statsmodels\\base\\model.py:566: ConvergenceWarning: Maximum Likelihood optimization failed to converge. Check mle_retvals\n",
      "  warnings.warn(\"Maximum Likelihood optimization failed to \"\n"
     ]
    },
    {
     "name": "stdout",
     "output_type": "stream",
     "text": [
      ">Predicted=30.500, Expected=30.500\n"
     ]
    },
    {
     "name": "stderr",
     "output_type": "stream",
     "text": [
      "C:\\ProgramData\\Anaconda3\\lib\\site-packages\\statsmodels\\base\\model.py:566: ConvergenceWarning: Maximum Likelihood optimization failed to converge. Check mle_retvals\n",
      "  warnings.warn(\"Maximum Likelihood optimization failed to \"\n"
     ]
    },
    {
     "name": "stdout",
     "output_type": "stream",
     "text": [
      ">Predicted=30.867, Expected=31.222\n"
     ]
    },
    {
     "name": "stderr",
     "output_type": "stream",
     "text": [
      "C:\\ProgramData\\Anaconda3\\lib\\site-packages\\statsmodels\\base\\model.py:566: ConvergenceWarning: Maximum Likelihood optimization failed to converge. Check mle_retvals\n",
      "  warnings.warn(\"Maximum Likelihood optimization failed to \"\n"
     ]
    },
    {
     "name": "stdout",
     "output_type": "stream",
     "text": [
      ">Predicted=31.272, Expected=31.000\n"
     ]
    },
    {
     "name": "stderr",
     "output_type": "stream",
     "text": [
      "C:\\ProgramData\\Anaconda3\\lib\\site-packages\\statsmodels\\base\\model.py:566: ConvergenceWarning: Maximum Likelihood optimization failed to converge. Check mle_retvals\n",
      "  warnings.warn(\"Maximum Likelihood optimization failed to \"\n"
     ]
    },
    {
     "name": "stdout",
     "output_type": "stream",
     "text": [
      ">Predicted=31.964, Expected=32.556\n"
     ]
    },
    {
     "name": "stderr",
     "output_type": "stream",
     "text": [
      "C:\\ProgramData\\Anaconda3\\lib\\site-packages\\statsmodels\\base\\model.py:566: ConvergenceWarning: Maximum Likelihood optimization failed to converge. Check mle_retvals\n",
      "  warnings.warn(\"Maximum Likelihood optimization failed to \"\n"
     ]
    },
    {
     "name": "stdout",
     "output_type": "stream",
     "text": [
      ">Predicted=32.604, Expected=34.000\n",
      ">Predicted=34.220, Expected=33.500\n",
      ">Predicted=34.532, Expected=34.500\n"
     ]
    },
    {
     "name": "stderr",
     "output_type": "stream",
     "text": [
      "C:\\ProgramData\\Anaconda3\\lib\\site-packages\\statsmodels\\base\\model.py:566: ConvergenceWarning: Maximum Likelihood optimization failed to converge. Check mle_retvals\n",
      "  warnings.warn(\"Maximum Likelihood optimization failed to \"\n"
     ]
    },
    {
     "name": "stdout",
     "output_type": "stream",
     "text": [
      ">Predicted=34.353, Expected=34.250\n",
      ">Predicted=34.807, Expected=32.900\n"
     ]
    },
    {
     "name": "stderr",
     "output_type": "stream",
     "text": [
      "C:\\ProgramData\\Anaconda3\\lib\\site-packages\\statsmodels\\base\\model.py:566: ConvergenceWarning: Maximum Likelihood optimization failed to converge. Check mle_retvals\n",
      "  warnings.warn(\"Maximum Likelihood optimization failed to \"\n"
     ]
    },
    {
     "name": "stdout",
     "output_type": "stream",
     "text": [
      ">Predicted=33.800, Expected=32.875\n",
      ">Predicted=32.619, Expected=32.000\n"
     ]
    },
    {
     "name": "stderr",
     "output_type": "stream",
     "text": [
      "C:\\ProgramData\\Anaconda3\\lib\\site-packages\\statsmodels\\base\\model.py:566: ConvergenceWarning: Maximum Likelihood optimization failed to converge. Check mle_retvals\n",
      "  warnings.warn(\"Maximum Likelihood optimization failed to \"\n"
     ]
    }
   ],
   "source": [
    "# rolling forecasts\n",
    "for i in range(1, len(y)):\n",
    "    # predict\n",
    "    model = ARIMA(history, order=(2,2,3))\n",
    "    model_fit = model.fit()\n",
    "    yhat = bias + float(model_fit.forecast()[0])\n",
    "    predictions.append(yhat)\n",
    "    # observation\n",
    "    obs = y[i]\n",
    "    history.append(obs)\n",
    "    print('>Predicted=%.3f, Expected=%.3f' % (yhat, obs))\n"
   ]
  },
  {
   "cell_type": "code",
   "execution_count": 66,
   "id": "96c17def",
   "metadata": {},
   "outputs": [
    {
     "name": "stdout",
     "output_type": "stream",
     "text": [
      "RMSE: 1.387\n"
     ]
    },
    {
     "data": {
      "image/png": "[encoded data removed]",
      "text/plain": [
       "<Figure size 432x288 with 1 Axes>"
      ]
     },
     "metadata": {
      "needs_background": "light"
     },
     "output_type": "display_data"
    }
   ],
   "source": [
    "# report performance\n",
    "rmse = sqrt(mean_squared_error(y, predictions))\n",
    "print('RMSE: %.3f' % rmse)\n",
    "plt.plot(y)\n",
    "plt.plot(predictions, color='red')\n",
    "plt.show()\n"
   ]
  },
  {
   "cell_type": "code",
   "execution_count": null,
   "id": "066ef0c3",
   "metadata": {},
   "outputs": [],
   "source": []
  }
 ],
 "metadata": {
  "kernelspec": {
   "display_name": "Python 3 (ipykernel)",
   "language": "python",
   "name": "python3"
  },
  "language_info": {
   "codemirror_mode": {
    "name": "ipython",
    "version": 3
   },
   "file_extension": ".py",
   "mimetype": "text/x-python",
   "name": "python",
   "nbconvert_exporter": "python",
   "pygments_lexer": "ipython3",
   "version": "3.9.13"
  }
 },
 "nbformat": 4,
 "nbformat_minor": 5
}
